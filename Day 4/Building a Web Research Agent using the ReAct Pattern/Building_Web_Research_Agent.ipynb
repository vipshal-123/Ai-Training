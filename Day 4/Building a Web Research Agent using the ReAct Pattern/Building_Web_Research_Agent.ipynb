{
  "nbformat": 4,
  "nbformat_minor": 0,
  "metadata": {
    "colab": {
      "provenance": []
    },
    "kernelspec": {
      "name": "python3",
      "display_name": "Python 3"
    },
    "language_info": {
      "name": "python"
    }
  },
  "cells": [
    {
      "cell_type": "markdown",
      "source": [
        "**Install Required Packages**"
      ],
      "metadata": {
        "id": "FKNovf0rC1X2"
      }
    },
    {
      "cell_type": "code",
      "execution_count": 14,
      "metadata": {
        "colab": {
          "base_uri": "https://localhost:8080/"
        },
        "collapsed": true,
        "id": "dNQtqOin45JC",
        "outputId": "ac95cd30-bbe7-4155-cca5-4996e0a8e8f4"
      },
      "outputs": [
        {
          "output_type": "stream",
          "name": "stdout",
          "text": [
            "Requirement already satisfied: google-generativeai in /usr/local/lib/python3.11/dist-packages (0.8.5)\n",
            "Requirement already satisfied: tavily-python in /usr/local/lib/python3.11/dist-packages (0.7.5)\n",
            "Requirement already satisfied: google-ai-generativelanguage==0.6.15 in /usr/local/lib/python3.11/dist-packages (from google-generativeai) (0.6.15)\n",
            "Requirement already satisfied: google-api-core in /usr/local/lib/python3.11/dist-packages (from google-generativeai) (2.25.0)\n",
            "Requirement already satisfied: google-api-python-client in /usr/local/lib/python3.11/dist-packages (from google-generativeai) (2.171.0)\n",
            "Requirement already satisfied: google-auth>=2.15.0 in /usr/local/lib/python3.11/dist-packages (from google-generativeai) (2.38.0)\n",
            "Requirement already satisfied: protobuf in /usr/local/lib/python3.11/dist-packages (from google-generativeai) (5.29.5)\n",
            "Requirement already satisfied: pydantic in /usr/local/lib/python3.11/dist-packages (from google-generativeai) (2.11.5)\n",
            "Requirement already satisfied: tqdm in /usr/local/lib/python3.11/dist-packages (from google-generativeai) (4.67.1)\n",
            "Requirement already satisfied: typing-extensions in /usr/local/lib/python3.11/dist-packages (from google-generativeai) (4.14.0)\n",
            "Requirement already satisfied: proto-plus<2.0.0dev,>=1.22.3 in /usr/local/lib/python3.11/dist-packages (from google-ai-generativelanguage==0.6.15->google-generativeai) (1.26.1)\n",
            "Requirement already satisfied: requests in /usr/local/lib/python3.11/dist-packages (from tavily-python) (2.32.3)\n",
            "Requirement already satisfied: tiktoken>=0.5.1 in /usr/local/lib/python3.11/dist-packages (from tavily-python) (0.9.0)\n",
            "Requirement already satisfied: httpx in /usr/local/lib/python3.11/dist-packages (from tavily-python) (0.28.1)\n",
            "Requirement already satisfied: googleapis-common-protos<2.0.0,>=1.56.2 in /usr/local/lib/python3.11/dist-packages (from google-api-core->google-generativeai) (1.70.0)\n",
            "Requirement already satisfied: cachetools<6.0,>=2.0.0 in /usr/local/lib/python3.11/dist-packages (from google-auth>=2.15.0->google-generativeai) (5.5.2)\n",
            "Requirement already satisfied: pyasn1-modules>=0.2.1 in /usr/local/lib/python3.11/dist-packages (from google-auth>=2.15.0->google-generativeai) (0.4.2)\n",
            "Requirement already satisfied: rsa<5,>=3.1.4 in /usr/local/lib/python3.11/dist-packages (from google-auth>=2.15.0->google-generativeai) (4.9.1)\n",
            "Requirement already satisfied: charset-normalizer<4,>=2 in /usr/local/lib/python3.11/dist-packages (from requests->tavily-python) (3.4.2)\n",
            "Requirement already satisfied: idna<4,>=2.5 in /usr/local/lib/python3.11/dist-packages (from requests->tavily-python) (3.10)\n",
            "Requirement already satisfied: urllib3<3,>=1.21.1 in /usr/local/lib/python3.11/dist-packages (from requests->tavily-python) (2.4.0)\n",
            "Requirement already satisfied: certifi>=2017.4.17 in /usr/local/lib/python3.11/dist-packages (from requests->tavily-python) (2025.4.26)\n",
            "Requirement already satisfied: regex>=2022.1.18 in /usr/local/lib/python3.11/dist-packages (from tiktoken>=0.5.1->tavily-python) (2024.11.6)\n",
            "Requirement already satisfied: httplib2<1.0.0,>=0.19.0 in /usr/local/lib/python3.11/dist-packages (from google-api-python-client->google-generativeai) (0.22.0)\n",
            "Requirement already satisfied: google-auth-httplib2<1.0.0,>=0.2.0 in /usr/local/lib/python3.11/dist-packages (from google-api-python-client->google-generativeai) (0.2.0)\n",
            "Requirement already satisfied: uritemplate<5,>=3.0.1 in /usr/local/lib/python3.11/dist-packages (from google-api-python-client->google-generativeai) (4.2.0)\n",
            "Requirement already satisfied: anyio in /usr/local/lib/python3.11/dist-packages (from httpx->tavily-python) (4.9.0)\n",
            "Requirement already satisfied: httpcore==1.* in /usr/local/lib/python3.11/dist-packages (from httpx->tavily-python) (1.0.9)\n",
            "Requirement already satisfied: h11>=0.16 in /usr/local/lib/python3.11/dist-packages (from httpcore==1.*->httpx->tavily-python) (0.16.0)\n",
            "Requirement already satisfied: annotated-types>=0.6.0 in /usr/local/lib/python3.11/dist-packages (from pydantic->google-generativeai) (0.7.0)\n",
            "Requirement already satisfied: pydantic-core==2.33.2 in /usr/local/lib/python3.11/dist-packages (from pydantic->google-generativeai) (2.33.2)\n",
            "Requirement already satisfied: typing-inspection>=0.4.0 in /usr/local/lib/python3.11/dist-packages (from pydantic->google-generativeai) (0.4.1)\n",
            "Requirement already satisfied: grpcio<2.0.0,>=1.33.2 in /usr/local/lib/python3.11/dist-packages (from google-api-core[grpc]!=2.0.*,!=2.1.*,!=2.10.*,!=2.2.*,!=2.3.*,!=2.4.*,!=2.5.*,!=2.6.*,!=2.7.*,!=2.8.*,!=2.9.*,<3.0.0dev,>=1.34.1->google-ai-generativelanguage==0.6.15->google-generativeai) (1.72.1)\n",
            "Requirement already satisfied: grpcio-status<2.0.0,>=1.33.2 in /usr/local/lib/python3.11/dist-packages (from google-api-core[grpc]!=2.0.*,!=2.1.*,!=2.10.*,!=2.2.*,!=2.3.*,!=2.4.*,!=2.5.*,!=2.6.*,!=2.7.*,!=2.8.*,!=2.9.*,<3.0.0dev,>=1.34.1->google-ai-generativelanguage==0.6.15->google-generativeai) (1.71.0)\n",
            "Requirement already satisfied: pyparsing!=3.0.0,!=3.0.1,!=3.0.2,!=3.0.3,<4,>=2.4.2 in /usr/local/lib/python3.11/dist-packages (from httplib2<1.0.0,>=0.19.0->google-api-python-client->google-generativeai) (3.2.3)\n",
            "Requirement already satisfied: pyasn1<0.7.0,>=0.6.1 in /usr/local/lib/python3.11/dist-packages (from pyasn1-modules>=0.2.1->google-auth>=2.15.0->google-generativeai) (0.6.1)\n",
            "Requirement already satisfied: sniffio>=1.1 in /usr/local/lib/python3.11/dist-packages (from anyio->httpx->tavily-python) (1.3.1)\n"
          ]
        }
      ],
      "source": [
        "!pip install google-generativeai tavily-python"
      ]
    },
    {
      "cell_type": "markdown",
      "source": [
        "**Import Libraries**"
      ],
      "metadata": {
        "id": "ECKPGYiKC6-G"
      }
    },
    {
      "cell_type": "code",
      "source": [
        "import os\n",
        "import time\n",
        "from typing import List\n",
        "from dataclasses import dataclass\n",
        "import google.generativeai as genai\n",
        "from tavily import TavilyClient\n",
        "import getpass"
      ],
      "metadata": {
        "id": "OpNW5vcK5MS5"
      },
      "execution_count": 15,
      "outputs": []
    },
    {
      "cell_type": "markdown",
      "source": [
        "**Data Classes**"
      ],
      "metadata": {
        "id": "cuyaG0sfDAYv"
      }
    },
    {
      "cell_type": "code",
      "source": [
        "@dataclass\n",
        "class SearchResult:\n",
        "    title: str\n",
        "    content: str\n",
        "    url: str\n",
        "\n",
        "@dataclass\n",
        "class ResearchQuestion:\n",
        "    question: str\n",
        "    search_results: List[SearchResult]\n",
        "    summary: str = \"\""
      ],
      "metadata": {
        "id": "3sb14tMw5RcX"
      },
      "execution_count": 16,
      "outputs": []
    },
    {
      "cell_type": "markdown",
      "source": [
        "**ReAct Agent Class**"
      ],
      "metadata": {
        "id": "2dMJZ8EzDGGQ"
      }
    },
    {
      "cell_type": "code",
      "source": [
        "class ReActAgent:\n",
        "    def __init__(self, gemini_api_key, tavily_api_key):\n",
        "        self.research_questions: List[ResearchQuestion] = []\n",
        "\n",
        "        # Initialize Gemini with correct model name\n",
        "        genai.configure(api_key=gemini_api_key)\n",
        "        self.llm_client = genai.GenerativeModel(\"gemini-1.5-flash\")\n",
        "\n",
        "        # Initialize Tavily\n",
        "        self.search_client = TavilyClient(api_key=tavily_api_key)\n",
        "        print(\"✅ ReAct Agent initialized successfully\")\n",
        "\n",
        "    def _call_gemini(self, prompt: str) -> str:\n",
        "        try:\n",
        "            response = self.llm_client.generate_content(\n",
        "                prompt,\n",
        "                generation_config=genai.types.GenerationConfig(\n",
        "                    temperature=0.7,\n",
        "                    max_output_tokens=1000,\n",
        "                )\n",
        "            )\n",
        "            return response.text.strip() if response.text else \"\"\n",
        "        except Exception as e:\n",
        "            print(f\"Error calling Gemini: {e}\")\n",
        "            # Try alternative model if flash fails\n",
        "            try:\n",
        "                alt_client = genai.GenerativeModel(\"gemini-3.5-pro\")\n",
        "                response = alt_client.generate_content(\n",
        "                    prompt,\n",
        "                    generation_config=genai.types.GenerationConfig(\n",
        "                        temperature=0.7,\n",
        "                        max_output_tokens=1000,\n",
        "                    )\n",
        "                )\n",
        "                return response.text.strip() if response.text else \"\"\n",
        "            except Exception as e2:\n",
        "                print(f\"Error with alternative model: {e2}\")\n",
        "                return \"\"\n",
        "\n",
        "    def generate_research_questions(self, topic: str, num_questions: int = 5) -> List[str]:\n",
        "        print(f\"🧠 REASONING: Generating research questions for: '{topic}'\")\n",
        "\n",
        "        prompt = f\"\"\"Generate {num_questions} specific research questions about \"{topic}\".\n",
        "        Requirements:\n",
        "        - Each question should be clear and searchable\n",
        "        - Cover different aspects of the topic\n",
        "        - Format as numbered list (1. 2. 3. etc.)\n",
        "\n",
        "        Topic: {topic}\n",
        "\n",
        "        Example format:\n",
        "        1. What are the main causes of [topic]?\n",
        "        2. How does [topic] affect [specific area]?\n",
        "        3. What are the current solutions for [topic]?\"\"\"\n",
        "\n",
        "        response = self._call_gemini(prompt)\n",
        "\n",
        "        questions = []\n",
        "        for line in response.split('\\n'):\n",
        "            line = line.strip()\n",
        "            if line and line[0].isdigit():\n",
        "                question = line.split('.', 1)[-1].strip()\n",
        "                if question:\n",
        "                    questions.append(question)\n",
        "\n",
        "        print(f\"✅ Generated {len(questions)} questions\")\n",
        "        return questions[:num_questions]\n",
        "\n",
        "    def search_web(self, query: str) -> List[SearchResult]:\n",
        "        print(f\"🔍 ACTING: Searching for: '{query}'\")\n",
        "\n",
        "        try:\n",
        "            search_response = self.search_client.search(query=query, max_results=3)\n",
        "\n",
        "            results = []\n",
        "            for result in search_response.get('results', []):\n",
        "                search_result = SearchResult(\n",
        "                    title=result.get('title', ''),\n",
        "                    content=result.get('content', ''),\n",
        "                    url=result.get('url', '')\n",
        "                )\n",
        "                results.append(search_result)\n",
        "\n",
        "            print(f\"✅ Found {len(results)} results\")\n",
        "            return results\n",
        "        except Exception as e:\n",
        "            print(f\"Error in search: {e}\")\n",
        "            return []\n",
        "\n",
        "    def summarize_findings(self, question: str, search_results: List[SearchResult]) -> str:\n",
        "        if not search_results:\n",
        "            return \"No information found.\"\n",
        "\n",
        "        print(\"🧠 REASONING: Summarizing findings...\")\n",
        "\n",
        "        context = \"\"\n",
        "        for i, result in enumerate(search_results, 1):\n",
        "            context += f\"Source {i}: {result.title}\\n{result.content[:500]}...\\n\\n\"\n",
        "\n",
        "        prompt = f\"\"\"Answer this question based on the search results provided:\n",
        "\n",
        "Question: {question}\n",
        "\n",
        "Search Results:\n",
        "{context}\n",
        "\n",
        "Instructions:\n",
        "- Provide a clear, comprehensive answer in 2-3 paragraphs\n",
        "- Use information from the sources provided\n",
        "- Be factual and objective\n",
        "- If sources conflict, mention the different perspectives\n",
        "\n",
        "Answer:\"\"\"\n",
        "\n",
        "        summary = self._call_gemini(prompt)\n",
        "        return summary if summary else \"Unable to generate summary.\"\n",
        "\n",
        "    def research_topic(self, topic: str, num_questions: int = 5):\n",
        "        print(f\"🚀 Starting research on: '{topic}'\")\n",
        "        print(\"=\" * 50)\n",
        "\n",
        "        # Step 1: Generate questions\n",
        "        questions = self.generate_research_questions(topic, num_questions)\n",
        "\n",
        "        if not questions:\n",
        "            print(\"❌ Failed to generate questions. Please check your API key and internet connection.\")\n",
        "            return\n",
        "\n",
        "        # Step 2: Research each question\n",
        "        for i, question in enumerate(questions, 1):\n",
        "            print(f\"\\n📋 Question {i}: {question}\")\n",
        "\n",
        "            # Search web\n",
        "            search_results = self.search_web(question)\n",
        "\n",
        "            # Summarize findings\n",
        "            summary = self.summarize_findings(question, search_results)\n",
        "\n",
        "            # Store results\n",
        "            research_q = ResearchQuestion(\n",
        "                question=question,\n",
        "                search_results=search_results,\n",
        "                summary=summary\n",
        "            )\n",
        "            self.research_questions.append(research_q)\n",
        "\n",
        "            print(f\"📝 Summary: {summary[:100]}...\")\n",
        "            time.sleep(1)  # Respectful delay\n",
        "\n",
        "        print(\"\\n✅ Research completed!\")\n",
        "\n",
        "    def generate_report(self, topic: str) -> str:\n",
        "        if not self.research_questions:\n",
        "            return \"No research data available.\"\n",
        "\n",
        "        report = f\"\"\"# Research Report: {topic}\n",
        "\n",
        "## Introduction\n",
        "This report presents research findings on \"{topic}\" using the ReAct (Reasoning + Acting) pattern for web research.\n",
        "\n",
        "## Research Questions and Findings\n",
        "\"\"\"\n",
        "\n",
        "        for i, rq in enumerate(self.research_questions, 1):\n",
        "            report += f\"\\n### {i}. {rq.question}\\n\\n{rq.summary}\\n\\n\"\n",
        "\n",
        "            if rq.search_results:\n",
        "                report += \"**Sources:**\\n\"\n",
        "                for j, result in enumerate(rq.search_results, 1):\n",
        "                    report += f\"{j}. [{result.title}]({result.url})\\n\"\n",
        "            report += \"\\n\"\n",
        "\n",
        "        report += f\"\\n## Conclusion\\n\"\n",
        "        report += f\"This research covered {len(self.research_questions)} key aspects of {topic}, \"\n",
        "        report += f\"providing comprehensive insights through web search and analysis.\\n\"\n",
        "\n",
        "        return report"
      ],
      "metadata": {
        "id": "b2rSVxuA5Y95"
      },
      "execution_count": 35,
      "outputs": []
    },
    {
      "cell_type": "markdown",
      "source": [
        "**Setup API Keys**"
      ],
      "metadata": {
        "id": "jnBFJs5VDOE5"
      }
    },
    {
      "cell_type": "code",
      "source": [
        "print(\"Enter your API keys:\")\n",
        "GEMINI_API_KEY = getpass.getpass(\"Gemini API Key: \")\n",
        "TAVILY_API_KEY = getpass.getpass(\"Tavily API Key: \")\n",
        "\n",
        "\n",
        "try:\n",
        "    agent = ReActAgent(GEMINI_API_KEY, TAVILY_API_KEY)\n",
        "except Exception as e:\n",
        "    print(f\"Error initializing agent: {e}\")\n",
        "    print(\"Please check your API keys and try again.\")"
      ],
      "metadata": {
        "colab": {
          "base_uri": "https://localhost:8080/"
        },
        "id": "j-tyYnLt5ekx",
        "outputId": "0666c015-c719-40a6-f956-049c3c36a911"
      },
      "execution_count": 42,
      "outputs": [
        {
          "output_type": "stream",
          "name": "stdout",
          "text": [
            "Enter your API keys:\n",
            "Gemini API Key: ··········\n",
            "Tavily API Key: ··········\n",
            "✅ ReAct Agent initialized successfully\n"
          ]
        }
      ]
    },
    {
      "cell_type": "markdown",
      "source": [
        "** Run Research**"
      ],
      "metadata": {
        "id": "lFCCKVHiDTxq"
      }
    },
    {
      "cell_type": "code",
      "source": [
        "research_topic = input(\"🔎 Enter the topic you want to research: \")\n",
        "\n",
        "try:\n",
        "    agent.research_topic(research_topic, num_questions=5)\n",
        "except Exception as e:\n",
        "    print(f\"Error during research: {e}\")"
      ],
      "metadata": {
        "colab": {
          "base_uri": "https://localhost:8080/",
          "height": 707
        },
        "collapsed": true,
        "id": "WW8hxfjG78iw",
        "outputId": "83124b0e-265b-46b8-ab0c-657569e181f1"
      },
      "execution_count": 44,
      "outputs": [
        {
          "output_type": "stream",
          "name": "stdout",
          "text": [
            "🔎 Enter the topic you want to research: SNS Square Consultancy Services Pvt Ltd\n",
            "🚀 Starting research on: 'SNS Square Consultancy Services Pvt Ltd'\n",
            "==================================================\n",
            "🧠 REASONING: Generating research questions for: 'SNS Square Consultancy Services Pvt Ltd'\n",
            "✅ Generated 5 questions\n",
            "\n",
            "📋 Question 1: What types of consultancy services does SNS Square Consultancy Services Pvt Ltd primarily offer, and what are their key industry specializations?\n",
            "🔍 ACTING: Searching for: 'What types of consultancy services does SNS Square Consultancy Services Pvt Ltd primarily offer, and what are their key industry specializations?'\n",
            "✅ Found 3 results\n",
            "🧠 REASONING: Summarizing findings...\n",
            "📝 Summary: SNS Square Consultancy Services Pvt Ltd primarily offers IT consultancy services, focusing on helpin...\n",
            "\n",
            "📋 Question 2: What is the client base and geographic reach of SNS Square Consultancy Services Pvt Ltd, based on publicly available information and news reports?\n",
            "🔍 ACTING: Searching for: 'What is the client base and geographic reach of SNS Square Consultancy Services Pvt Ltd, based on publicly available information and news reports?'\n",
            "✅ Found 3 results\n",
            "🧠 REASONING: Summarizing findings...\n",
            "📝 Summary: Based on the provided search results, SNS Square Consultancy Services Pvt Ltd. serves a client base ...\n",
            "\n",
            "📋 Question 3: How does the revenue and market share of SNS Square Consultancy Services Pvt Ltd compare to its main competitors in the Indian consultancy market?\n",
            "🔍 ACTING: Searching for: 'How does the revenue and market share of SNS Square Consultancy Services Pvt Ltd compare to its main competitors in the Indian consultancy market?'\n",
            "✅ Found 3 results\n",
            "🧠 REASONING: Summarizing findings...\n",
            "📝 Summary: The provided search results offer limited information regarding the revenue and market share of SNS ...\n",
            "\n",
            "📋 Question 4: What is the employee size and organizational structure of SNS Square Consultancy Services Pvt Ltd, and what is their employee review profile based on available data from platforms like Glassdoor?\n",
            "🔍 ACTING: Searching for: 'What is the employee size and organizational structure of SNS Square Consultancy Services Pvt Ltd, and what is their employee review profile based on available data from platforms like Glassdoor?'\n",
            "✅ Found 3 results\n",
            "🧠 REASONING: Summarizing findings...\n",
            "📝 Summary: Based on the provided search results, SNS Square Consultancy Services Pvt Ltd. employs between 11 an...\n",
            "\n",
            "📋 Question 5: What is the overall reputation and brand perception of SNS Square Consultancy Services Pvt Ltd based on online reviews, media mentions, and industry rankings?\n",
            "🔍 ACTING: Searching for: 'What is the overall reputation and brand perception of SNS Square Consultancy Services Pvt Ltd based on online reviews, media mentions, and industry rankings?'\n",
            "✅ Found 3 results\n",
            "🧠 REASONING: Summarizing findings...\n",
            "📝 Summary: Based on the provided search results, SNS Square Consultancy Services Pvt Ltd. is an IT services and...\n",
            "\n",
            "✅ Research completed!\n"
          ]
        }
      ]
    },
    {
      "cell_type": "markdown",
      "source": [
        "Install Required Packages"
      ],
      "metadata": {
        "id": "w5fLOeQnCwQG"
      }
    },
    {
      "cell_type": "markdown",
      "source": [
        "**Generate and Display Report**"
      ],
      "metadata": {
        "id": "XoS2dF6cDZYa"
      }
    },
    {
      "cell_type": "markdown",
      "source": [
        "**Final Report**"
      ],
      "metadata": {
        "id": "qwTYj__BDfd9"
      }
    },
    {
      "cell_type": "code",
      "source": [
        "report = agent.generate_report(research_topic)\n",
        "print(\"\\n\" + \"=\"*60)\n",
        "print(\"FINAL REPORT\")\n",
        "print(\"=\"*60)\n",
        "print(report)"
      ],
      "metadata": {
        "colab": {
          "base_uri": "https://localhost:8080/"
        },
        "collapsed": true,
        "id": "-polUhsY8IMH",
        "outputId": "e2f820af-501e-4cf4-e155-7dbd5100de35"
      },
      "execution_count": 40,
      "outputs": [
        {
          "output_type": "stream",
          "name": "stdout",
          "text": [
            "\n",
            "============================================================\n",
            "FINAL REPORT\n",
            "============================================================\n",
            "# Research Report: SNS Square Consultancy Services Pvt Ltd\n",
            "\n",
            "## Introduction\n",
            "This report presents research findings on \"SNS Square Consultancy Services Pvt Ltd\" using the ReAct (Reasoning + Acting) pattern for web research.\n",
            "\n",
            "## Research Questions and Findings\n",
            "\n",
            "### 1. What is the correlation between increased atmospheric CO2 concentration and the frequency of extreme weather events (hurricanes, droughts, heatwaves) in the Mediterranean region since 1980?\n",
            "\n",
            "Source 1 is irrelevant as it provides a current weather report for Santiago, Chile, and not data on the Mediterranean region's climate trends since 1980.  Source 2 indicates a direct correlation between increased CO2 concentrations and an increase in extreme heat events, even without a change in average global temperatures.  While this study doesn't specifically focus on the Mediterranean, it supports the general principle that higher CO2 levels contribute to more frequent extreme weather.\n",
            "\n",
            "Source 3, from the IPCC AR6 report, provides more direct regional relevance.  It states that globally, and in more than 80% of assessed regions (including likely the Mediterranean, though this isn't explicitly stated), the frequency and intensity of hot extremes, including heatwaves, have increased since 1950.  The report notes a decrease in cold extremes.  However, the report acknowledges limitations in data availability for some regions, preventing definitive conclusions for all types of extreme weather events (like droughts and hurricanes) in the Mediterranean specifically.  Therefore, while a correlation between increased atmospheric CO2 and more frequent heatwaves in the Mediterranean is likely supported, the evidence for other extreme weather events such as droughts and hurricanes requires further investigation based on the provided sources.\n",
            "\n",
            "**Sources:**\n",
            "1. [Weather in Mediterranean region](https://www.weatherapi.com/)\n",
            "2. [CO2 Can Directly Impact Extreme Weather, Research Suggests](https://www.scientificamerican.com/article/co2-can-directly-impact-extreme-weather-research-suggests/)\n",
            "3. [Chapter 11: Weather and Climate Extreme Events in a Changing Climate - IPCC](https://www.ipcc.ch/report/ar6/wg1/chapter/chapter-11/)\n",
            "\n",
            "\n",
            "### 2. How effective are current carbon capture and storage (CCS) technologies in mitigating climate change, considering both technological limitations and economic feasibility?\n",
            "\n",
            "Current carbon capture and storage (CCS) technologies, while promising for mitigating climate change by capturing CO2 emissions from large industrial plants and power plants before atmospheric release, face significant limitations in effectiveness and economic feasibility.  While sources agree that CCS is a critical component in reducing CO2 emissions (Source 2),  Source 3 highlights a crucial trade-off: achieving near 100% capture efficiency becomes exponentially more expensive and energy-intensive. This suggests that complete mitigation through CCS alone is currently impractical, at least on a large scale.  The technology's effectiveness, therefore, is dependent on achieving a balance between capture rate and economic viability.\n",
            "\n",
            "The economic challenges are further implied by Source 1's mention of the need for a robust policy framework.  This suggests that the current economic model may not adequately support widespread CCS deployment, necessitating government incentives or regulations to make it financially attractive.  Furthermore, the long-term reliability of geological storage, a key element of CCS, requires further research and monitoring to ensure safe and permanent sequestration. The sources do not offer specific figures on current capture rates or cost-effectiveness across different CCS technologies, limiting a precise assessment of their current impact.\n",
            "\n",
            "In summary, while CCS technologies show potential for mitigating climate change, their effectiveness is currently limited by both technological constraints (achieving high capture rates at reasonable costs) and economic factors (requiring substantial policy support and investment).  Further technological advancements and supportive policy frameworks are essential to enhance their role in a comprehensive climate change mitigation strategy.\n",
            "\n",
            "**Sources:**\n",
            "1. [PDF](https://www.jrte.org/wp-content/uploads/2023/10/Assessing-the-Effectiveness-and-Sustainability-of-Carbon-Capture-and-Storage.pdf)\n",
            "2. [Carbon capture, utilization, and storage (CCUS) technologies ...](https://www.sciencedirect.com/science/article/pii/S2666845924002010)\n",
            "3. [How efficient is carbon capture and storage? - MIT Climate Portal](https://climate.mit.edu/ask-mit/how-efficient-carbon-capture-and-storage)\n",
            "\n",
            "\n",
            "### 3. What are the projected impacts of climate change on agricultural yields in sub-Saharan Africa by 2050, differentiating between various crop types and regional variations?\n",
            "\n",
            "Based on the provided sources, projecting the precise impacts of climate change on agricultural yields in sub-Saharan Africa by 2050 is difficult due to a lack of specific data on regional variations and crop-type specifics within the provided texts.  Source 2 mentions a general projection of a 0.2% decrease in GDP due to climate change by 2050, indicating negative impacts on the agricultural sector as a whole, but doesn't break this down by crop or region.  Source 1 highlights the widespread concern and ongoing research into the climate change-agriculture nexus in sub-Saharan Africa, acknowledging the short, medium, and long-term implications, but offers no specific yield projections.\n",
            "\n",
            "Source 3 focuses on globally important staple crops (wheat, maize, millet, sorghum, and rice) and discusses the impacts of warmer temperatures, increased CO2, and altered water availability. However, it does not provide specific yield projections for sub-Saharan Africa. While it suggests methodologies for improving predictive models (multifactor experiments, biotic stress modelling, etc.),  it lacks concrete data for the region in question.  Therefore, while the sources confirm negative impacts are expected, quantifying those impacts regionally and for specific crops remains unanswered.  Further research utilizing the methodologies suggested in Source 3 would be needed to provide more precise projections.\n",
            "\n",
            "**Sources:**\n",
            "1. [The impacts of climate change on agriculture in sub-Saharan Africa: A ...](https://www.sciencedirect.com/science/article/pii/S0305750X22001577)\n",
            "2. [PDF](https://www.oerafrica.org/system/files/2024-01/economywide-impacts-climate-change.pdf)\n",
            "3. [Climate change impacts on crop yields - Nature](https://www.nature.com/articles/s43017-023-00491-0)\n",
            "\n",
            "\n",
            "### 4. To what extent does public perception of climate change risk influence individual behavioral changes related to carbon footprint reduction in developed nations?\n",
            "\n",
            "Based on the provided text, public perception of climate change risk demonstrably influences individual behavioral changes aimed at reducing carbon footprints in developed nations, but the extent of this influence varies depending on the specific behavior. Source 1 indicates that while perceived risk (worries) is a factor,  it doesn't fully explain behavioral changes.  Even controlling for other factors like self-efficacy, the willingness to alter certain behaviors remains stronger than others.  For example, reducing meat consumption and car use appear more challenging for individuals to change than shorter showers or lower heating temperatures.  This suggests that the perceived inconvenience or sacrifice associated with specific actions significantly moderates the impact of risk perception.\n",
            "\n",
            "Source 2 further supports the role of risk perception, highlighting a scale measuring perceived risks to personal health, finances, and environmental well-being. While the source doesn't directly link this perception to behavioral change, it establishes that the assessment of personal risk is a crucial element in understanding individual responses to climate change.  The absence of explicit connection between risk perception and behavioral change in this source leaves the exact extent of the influence somewhat unclear.  Source 3 focuses on a different context (East Africa and policy influencers), so it doesn't provide relevant information to answer the question concerning developed nations.\n",
            "\n",
            "In summary, the provided sources suggest a correlation between perceived climate change risk and behavioral changes related to carbon footprint reduction in developed nations. However, the strength of this correlation is not uniform across all behaviors, with some actions proving more resistant to change than others due to factors beyond risk perception alone, such as perceived inconvenience or personal sacrifice.  Further research is needed to fully quantify the extent of this influence and to disentangle the complex interplay of factors affecting individual actions.\n",
            "\n",
            "**Sources:**\n",
            "1. [Increasing individual-level climate mitigation action: the role of ...](https://www.nature.com/articles/s41599-025-04712-3)\n",
            "2. [The role of climate change risk perception, response efficacy, and ...](https://www.sciencedirect.com/science/article/pii/S0272494419306607)\n",
            "3. [Understanding the Links Between Climate Change Risk Perceptions and the ...](https://pmc.ncbi.nlm.nih.gov/articles/PMC9292960/)\n",
            "\n",
            "\n",
            "### 5. What is the relationship between deforestation rates in the Amazon rainforest and the global carbon cycle, considering both direct CO2 emissions and changes in biodiversity and ecosystem services?\n",
            "\n",
            "Deforestation in the Amazon rainforest significantly impacts the global carbon cycle, primarily through direct CO2 emissions.  Source 1 indicates that deforestation contributes approximately 200 million tons of carbon annually, representing around 3% of total global emissions.  This occurs when trees, which store large amounts of carbon, are cut down and burned or decompose, releasing the stored carbon into the atmosphere as CO2.  Source 2 further elaborates on this by highlighting a feedback loop: deforestation emissions contribute to global climate change, which in turn negatively affects the Amazon's ability to absorb carbon, leading to further emissions and carbon loss through forest degradation.\n",
            "\n",
            "Beyond direct CO2 emissions, deforestation alters the Amazon's biodiversity and ecosystem services, further influencing the carbon cycle.  The loss of rainforest, as noted in Source 3, reduces the overall capacity of the Amazon to act as a carbon sink.  The conversion of rainforest to agriculture, resulting in a 17% decrease in forest extent, diminishes the forest's ability to absorb atmospheric CO2.  Changes in rainfall and temperature patterns, also cited in Source 3,  further impact the Amazon's metabolic processes and its capacity to store carbon, potentially turning parts of the forest from a carbon sink into a carbon source.  The exact extent of these indirect effects is not explicitly quantified in the provided sources, but their significant contribution is implied.\n",
            "\n",
            "**Sources:**\n",
            "1. [Evaluation of deforestation, climate change and CO2 emissions in the ...](https://www.sciencedirect.com/science/article/pii/S0895981124002323)\n",
            "2. [Amazon deforestation implications in local/regional climate change](https://pmc.ncbi.nlm.nih.gov/articles/PMC10722968/)\n",
            "3. [Deforestation, warming flip part of Amazon forest from carbon sink to ...](https://research.noaa.gov/deforestation-warming-flip-part-of-amazon-forest-from-carbon-sink-to-source/)\n",
            "\n",
            "\n",
            "### 6. What is the client satisfaction rate of SNS Square Consultancy Services Pvt Ltd, as measured by publicly available reviews and testimonials across platforms like Google Reviews and Clutch?\n",
            "\n",
            "The provided search results do not contain any information regarding client satisfaction rates for SNS Square Consultancy Services Pvt Ltd., as measured by publicly available reviews and testimonials on platforms like Google Reviews or Clutch.  Sources 1, 2, and 3 offer company descriptions and general information about the services offered by SNS Square, highlighting their commitment to client success and the provision of consulting services across various domains.  However, none of these sources quantify client satisfaction through specific metrics like percentage ratings derived from online review platforms.\n",
            "\n",
            "\n",
            "To determine the client satisfaction rate, additional research would be required, specifically focusing on accessing and analyzing reviews from sites such as Google Reviews, Clutch, or other relevant review platforms.  The absence of such data in the provided sources prevents a factual answer to the question about their client satisfaction rate.\n",
            "\n",
            "**Sources:**\n",
            "1. [SNS Square Consultancy Services Pvt Ltd., - LinkedIn](https://www.linkedin.com/company/snssquare)\n",
            "2. [SNS Square](https://www.snssquare.com/)\n",
            "3. [SNS SQUARE CONSULTANCY SERVICES PRIVATE LIMITED Company Profile ...](https://www.dnb.com/business-directory/company-profiles.sns_square_consultancy_services_private_limited.2003934d37553ed5e5f61f0384f76c24.html)\n",
            "\n",
            "\n",
            "### 7. What types of consulting services does SNS Square Consultancy Services Pvt Ltd primarily offer, and what are their respective market shares within the broader Indian consulting industry?\n",
            "\n",
            "SNS Square Consultancy Services Pvt Ltd primarily offers IT services and consulting, product development, and digital marketing services to enterprises and industries across various domains.  Their goal is to help clients gain a competitive advantage through the application of digital technologies.  The company emphasizes innovative, high-quality, and user-centric solutions, focusing on growth, efficiency, and innovation across their service offerings.  They also provide managed services aimed at driving efficiency, reducing costs, and enhancing overall business performance.  Furthermore, they offer insights into areas like the global AI market size and intelligent machine behavior, suggesting a specialization in data-driven consulting.\n",
            "\n",
            "The provided text does not offer any information regarding SNS Square's market share within the broader Indian consulting industry.  None of the sources quantify their market position relative to competitors. Therefore, a precise answer regarding their market share cannot be provided based on the available information.  Further research would be necessary to determine their market standing.\n",
            "\n",
            "**Sources:**\n",
            "1. [SNS Square - Company Profile - Tracxn](https://tracxn.com/d/companies/sns-square/__nWyRYXIE_X__V-a3KwsLzwas-3TIEQA39tOkPlYtVFU)\n",
            "2. [SNS Square Consultancy Services Pvt Ltd., - LinkedIn](https://www.linkedin.com/company/snssquare)\n",
            "3. [SNS Square](https://www.snssquare.com/)\n",
            "\n",
            "\n",
            "### 8. How has the revenue of SNS Square Consultancy Services Pvt Ltd changed over the past five years, and what factors (e.g., market trends, client acquisition strategies) have contributed to this growth or decline? (Information may be found in company filings or news articles).\n",
            "\n",
            "Based on the provided search results, a precise quantification of SNS Square Consultancy Services Pvt Ltd's revenue change over the past five years is unavailable.  Sources 1, 2, and 3 mention access to financial data, including profit and loss statements, but don't provide the actual figures. Source 1 notes the company's establishment in 2022, implying that complete five-year data is not yet available.  Sources 2 and 3 suggest that detailed financial information, including revenue figures, can be found through their respective platforms (Dun & Bradstreet and Tofler), but the specifics are not included in the snippets.\n",
            "\n",
            "Therefore, a detailed analysis of revenue changes and contributing factors (market trends, client acquisition strategies, etc.) cannot be performed with the information provided.  To determine the company's revenue growth or decline, accessing the full financial reports available through Dun & Bradstreet and Tofler, as suggested by Sources 2 and 3, would be necessary.  Further research into Coimbatore's software market trends and SNS Square's business strategies could then provide context for understanding any revenue fluctuations.\n",
            "\n",
            "**Sources:**\n",
            "1. [Sns Square Consultancy Services Private Limited - The Company Check](https://www.thecompanycheck.com/company/sns-square-consultancy-services-private-limited/U72200TZ2022PTC040082)\n",
            "2. [SNS SQUARE CONSULTANCY SERVICES PRIVATE LIMITED Company Profile ...](https://www.dnb.com/business-directory/company-profiles.sns_square_consultancy_services_private_limited.2003934d37553ed5e5f61f0384f76c24.html)\n",
            "3. [Sns Square Consultancy Services Financials | Company Details - Tofler](https://www.tofler.in/sns-square-consultancy-services-private-limited/company/U72200TZ2022PTC040082)\n",
            "\n",
            "\n",
            "### 9. What is the employee retention rate at SNS Square Consultancy Services Pvt Ltd, and what employee benefits or workplace culture factors contribute to (or detract from) employee satisfaction and longevity? (Information may be gleaned from employee review sites like Glassdoor, if available).\n",
            "\n",
            "The provided text does not contain the employee retention rate for SNS Square Consultancy Services Pvt Ltd.  Source 1 mentions Glassdoor provides employee reviews, including salaries, but doesn't offer the retention rate itself.  Source 2 discusses general employee retention statistics and the importance of engagement for retention, but doesn't provide data specific to SNS Square. Source 3 focuses on the company's services and mission, offering no insights into employee satisfaction or retention.\n",
            "\n",
            "Therefore, based solely on the provided search results, it's impossible to determine the employee retention rate at SNS Square.  Similarly, we lack specific information on employee benefits and workplace culture contributing to or detracting from employee satisfaction and longevity.  While Source 1 indicates that Glassdoor might contain employee reviews that could shed light on these factors, the actual reviews are not included in the provided text.  To obtain this information, one would need to directly access employee reviews on Glassdoor.\n",
            "\n",
            "**Sources:**\n",
            "1. [Working at SNS Square - Glassdoor](https://www.glassdoor.co.in/Overview/Working-at-SNS-Square-EI_IE8691266.11,21.htm)\n",
            "2. [40 Must-Know Employee Retention Statistics for 2025](https://thirst.io/blog/employee-retention-statistics-2025/)\n",
            "3. [SNS Square](https://www.snssquare.com/)\n",
            "\n",
            "\n",
            "### 10. What is the social media presence and engagement of SNS Square Consultancy Services Pvt Ltd across platforms like LinkedIn, Twitter, and Facebook, and how effective are their social media marketing strategies in generating leads and brand awareness?\n",
            "\n",
            "The provided search results do not offer any specific information regarding the social media presence, engagement, or marketing effectiveness of SNS Square Consultancy Services Pvt Ltd.  Source 1 lists social media marketing services offered by agencies in Surat, but doesn't mention SNS Square or provide any data on their social media performance.  Source 2 suggests using social media platforms like Facebook, Twitter, and LinkedIn to find businesses, implying that many companies utilize these platforms, but again, it doesn't provide any details on SNS Square's specific activities or results.  Therefore, based on the given sources, it's impossible to assess their social media presence, engagement levels, or the effectiveness of their social media marketing strategies in generating leads and brand awareness.\n",
            "\n",
            "**Sources:**\n",
            "1. [Top Social Media Marketing Agencies in Surat - Justdial](https://www.justdial.com/Surat/Social-Media-Marketing-Agencies/nct-11299427)\n",
            "2. [Reliable Facility Management Services in Thadi Thota, Rajahmundry](https://www.justdial.com/Rajahmundry/Facility-Management-Services-in-Thadi-Thota/nct-10198813)\n",
            "\n",
            "\n",
            "## Conclusion\n",
            "This research covered 10 key aspects of SNS Square Consultancy Services Pvt Ltd, providing comprehensive insights through web search and analysis.\n",
            "\n"
          ]
        }
      ]
    },
    {
      "cell_type": "markdown",
      "source": [
        "**Save Report**"
      ],
      "metadata": {
        "id": "xmNaOumoDo59"
      }
    },
    {
      "cell_type": "code",
      "source": [
        "with open(f\"research_report_{research_topic.replace(' ', '_')}.md\", 'w') as f:\n",
        "    f.write(report)\n",
        "print(f\"Report saved as: research_report_{research_topic.replace(' ', '_')}.md\")"
      ],
      "metadata": {
        "colab": {
          "base_uri": "https://localhost:8080/"
        },
        "id": "358ogPTK8N_P",
        "outputId": "76f73c06-8e3b-4db2-def2-0116e3779b99"
      },
      "execution_count": 41,
      "outputs": [
        {
          "output_type": "stream",
          "name": "stdout",
          "text": [
            "Report saved as: research_report_SNS_Square_Consultancy_Services_Pvt_Ltd.md\n"
          ]
        }
      ]
    }
  ]
}