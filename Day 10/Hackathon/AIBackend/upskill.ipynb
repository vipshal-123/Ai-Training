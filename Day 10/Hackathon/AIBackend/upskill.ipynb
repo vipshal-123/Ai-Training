{
 "cells": [
  {
   "cell_type": "code",
   "execution_count": 5,
   "id": "02b8c7f5",
   "metadata": {},
   "outputs": [],
   "source": [
    "from langgraph.graph import StateGraph, END\n",
    "from backend.rag.retriever import retrieve_resources\n",
    "from backend.prompt.prompt import UPSKILL_RECOMMENDATION_PROMPT\n",
    "from backend.llm.gemini import gemini_chat\n",
    "from typing import TypedDict\n",
    "import json\n",
    "import re\n"
   ]
  },
  {
   "cell_type": "code",
   "execution_count": 6,
   "id": "8b4e6637",
   "metadata": {},
   "outputs": [],
   "source": [
    "class UpskillAgentState(TypedDict):\n",
    "    offer_components: dict\n",
    "    acceptance_prediction: dict\n",
    "    onboarding_resources: dict"
   ]
  },
  {
   "cell_type": "code",
   "execution_count": 7,
   "id": "9b6b0fd5",
   "metadata": {},
   "outputs": [],
   "source": [
    "def clean_llm_json_response(raw_response: str) -> dict:\n",
    "    try:\n",
    "        # Remove ```json or ``` if present\n",
    "        cleaned = re.sub(r\"```(?:json)?\", \"\", raw_response).strip(\"`\\n \")\n",
    "        return json.loads(cleaned)\n",
    "    except Exception as e:\n",
    "        return {\"error\": f\"Failed to parse LLM response: {str(e)}\", \"raw\": raw_response}\n",
    "\n",
    "\n",
    "def fetch_resources_with_rag(state: UpskillAgentState) -> UpskillAgentState:\n",
    "    role = state[\"offer_components\"].get(\"job_title\", \"\")\n",
    "    company = state[\"offer_components\"].get(\"company\", \"\")\n",
    "    tools = state[\"offer_components\"].get(\"tech_stack\", \"\")\n",
    "    \n",
    "    resources = retrieve_resources(role, company, tools)\n",
    "    return {**state, \"retrieved_resources\": resources}\n",
    "\n",
    "def recommend_upskill_resources(state: UpskillAgentState) -> UpskillAgentState:\n",
    "    \"======================\"\n",
    "    prompt = UPSKILL_RECOMMENDATION_PROMPT.format(\n",
    "        offer=state[\"offer_components\"],\n",
    "        resources=state[\"retrieved_resources\"]\n",
    "    )\n",
    "    response = gemini_chat(prompt)\n",
    "    \n",
    "    print(\"response\", response)\n",
    "\n",
    "    try:\n",
    "        structured = clean_llm_json_response(response)\n",
    "    except Exception as e:\n",
    "        print(\"Error in upskill\")\n",
    "        structured = {\"error\": str(e)}\n",
    "    \n",
    "    return {**state, \"onboarding_resources\": structured}\n"
   ]
  },
  {
   "cell_type": "code",
   "execution_count": 8,
   "id": "1ecd9570",
   "metadata": {},
   "outputs": [],
   "source": [
    "builder = StateGraph(UpskillAgentState)\n",
    "builder.add_node(\"fetch_resources\", fetch_resources_with_rag)\n",
    "builder.add_node(\"llm_recommendation\", recommend_upskill_resources)\n",
    "\n",
    "builder.set_entry_point(\"fetch_resources\")\n",
    "builder.add_edge(\"fetch_resources\", \"llm_recommendation\")\n",
    "builder.add_edge(\"llm_recommendation\", END)\n",
    "\n",
    "app = builder.compile()"
   ]
  },
  {
   "cell_type": "code",
   "execution_count": 9,
   "id": "0b761d14",
   "metadata": {},
   "outputs": [
    {
     "ename": "AttributeError",
     "evalue": "'str' object has no attribute 'get'",
     "output_type": "error",
     "traceback": [
      "\u001b[31m---------------------------------------------------------------------------\u001b[39m",
      "\u001b[31mAttributeError\u001b[39m                            Traceback (most recent call last)",
      "\u001b[36mCell\u001b[39m\u001b[36m \u001b[39m\u001b[32mIn[9]\u001b[39m\u001b[32m, line 1\u001b[39m\n\u001b[32m----> \u001b[39m\u001b[32m1\u001b[39m result = \u001b[43mapp\u001b[49m\u001b[43m.\u001b[49m\u001b[43minvoke\u001b[49m\u001b[43m(\u001b[49m\u001b[43m{\u001b[49m\u001b[33;43m\"\u001b[39;49m\u001b[33;43moffer_components\u001b[39;49m\u001b[33;43m\"\u001b[39;49m\u001b[43m:\u001b[49m\u001b[43m \u001b[49m\u001b[33;43m\"\u001b[39;49m\u001b[33;43m```python\u001b[39;49m\u001b[38;5;130;43;01m\\n\u001b[39;49;00m\u001b[33;43mjob_offer_details = \u001b[39;49m\u001b[33;43m{\u001b[39;49m\u001b[38;5;130;43;01m\\n\u001b[39;49;00m\u001b[33;43m    \u001b[39;49m\u001b[33;43m'\u001b[39;49m\u001b[33;43mctc\u001b[39;49m\u001b[33;43m'\u001b[39;49m\u001b[33;43m: \u001b[39;49m\u001b[33;43m'\u001b[39;49m\u001b[33;43m₹ 6-9 LPA\u001b[39;49m\u001b[33;43m'\u001b[39;49m\u001b[33;43m,\u001b[39;49m\u001b[38;5;130;43;01m\\n\u001b[39;49;00m\u001b[33;43m    \u001b[39;49m\u001b[33;43m'\u001b[39;49m\u001b[33;43mbonuses\u001b[39;49m\u001b[33;43m'\u001b[39;49m\u001b[33;43m: None,  # Not mentioned in the text\u001b[39;49m\u001b[38;5;130;43;01m\\n\u001b[39;49;00m\u001b[33;43m    \u001b[39;49m\u001b[33;43m'\u001b[39;49m\u001b[33;43mjob_title\u001b[39;49m\u001b[33;43m'\u001b[39;49m\u001b[33;43m: \u001b[39;49m\u001b[33;43m'\u001b[39;49m\u001b[33;43mSoftware Developer\u001b[39;49m\u001b[33;43m'\u001b[39;49m\u001b[33;43m,\u001b[39;49m\u001b[38;5;130;43;01m\\n\u001b[39;49;00m\u001b[33;43m    \u001b[39;49m\u001b[33;43m'\u001b[39;49m\u001b[33;43mresponsibilities\u001b[39;49m\u001b[33;43m'\u001b[39;49m\u001b[33;43m: [\u001b[39;49m\u001b[38;5;130;43;01m\\n\u001b[39;49;00m\u001b[33;43m        \u001b[39;49m\u001b[33;43m'\u001b[39;49m\u001b[33;43mDevelop and maintain web applications using modern programming languages and frameworks.\u001b[39;49m\u001b[33;43m'\u001b[39;49m\u001b[33;43m,\u001b[39;49m\u001b[38;5;130;43;01m\\n\u001b[39;49;00m\u001b[33;43m        \u001b[39;49m\u001b[33;43m'\u001b[39;49m\u001b[33;43mCollaborate with cross-functional teams to design, define, and deliver new features.\u001b[39;49m\u001b[33;43m'\u001b[39;49m\u001b[33;43m,\u001b[39;49m\u001b[38;5;130;43;01m\\n\u001b[39;49;00m\u001b[33;43m        \u001b[39;49m\u001b[33;43m'\u001b[39;49m\u001b[33;43mWrite clean, reusable, and efficient code.\u001b[39;49m\u001b[33;43m'\u001b[39;49m\u001b[33;43m,\u001b[39;49m\u001b[38;5;130;43;01m\\n\u001b[39;49;00m\u001b[33;43m        \u001b[39;49m\u001b[33;43m'\u001b[39;49m\u001b[33;43mImplement and maintain robust security and data protection measures.\u001b[39;49m\u001b[33;43m'\u001b[39;49m\u001b[33;43m,\u001b[39;49m\u001b[38;5;130;43;01m\\n\u001b[39;49;00m\u001b[33;43m        \u001b[39;49m\u001b[33;43m'\u001b[39;49m\u001b[33;43mOptimize applications for performance and scalability.\u001b[39;49m\u001b[33;43m'\u001b[39;49m\u001b[33;43m,\u001b[39;49m\u001b[38;5;130;43;01m\\n\u001b[39;49;00m\u001b[33;43m        \u001b[39;49m\u001b[33;43m'\u001b[39;49m\u001b[33;43mTroubleshoot and resolve development and production issues.\u001b[39;49m\u001b[33;43m'\u001b[39;49m\u001b[33;43m,\u001b[39;49m\u001b[38;5;130;43;01m\\n\u001b[39;49;00m\u001b[33;43m        \u001b[39;49m\u001b[33;43m'\u001b[39;49m\u001b[33;43mStay updated with emerging technologies and industry trends.\u001b[39;49m\u001b[33;43m'\u001b[39;49m\u001b[38;5;130;43;01m\\n\u001b[39;49;00m\u001b[33;43m    ],\u001b[39;49m\u001b[38;5;130;43;01m\\n\u001b[39;49;00m\u001b[33;43m    \u001b[39;49m\u001b[33;43m'\u001b[39;49m\u001b[33;43mlocation\u001b[39;49m\u001b[33;43m'\u001b[39;49m\u001b[33;43m: \u001b[39;49m\u001b[33;43m'\u001b[39;49m\u001b[33;43mCoimbatore/Bangalore\u001b[39;49m\u001b[33;43m'\u001b[39;49m\u001b[33;43m,\u001b[39;49m\u001b[38;5;130;43;01m\\n\u001b[39;49;00m\u001b[33;43m    \u001b[39;49m\u001b[33;43m'\u001b[39;49m\u001b[33;43mbond_duration\u001b[39;49m\u001b[33;43m'\u001b[39;49m\u001b[33;43m: None,  # Not mentioned in the text\u001b[39;49m\u001b[38;5;130;43;01m\\n\u001b[39;49;00m\u001b[33;43m    \u001b[39;49m\u001b[33;43m'\u001b[39;49m\u001b[33;43mbenefits\u001b[39;49m\u001b[33;43m'\u001b[39;49m\u001b[33;43m: None #Not explicitly listed, but implied by the description of SNSiHub\u001b[39;49m\u001b[33;43m'\u001b[39;49m\u001b[33;43ms offerings.\u001b[39;49m\u001b[38;5;130;43;01m\\n\u001b[39;49;00m\u001b[33;43m}\u001b[39;49m\u001b[38;5;130;43;01m\\n\u001b[39;49;00m\u001b[38;5;130;43;01m\\n\u001b[39;49;00m\u001b[33;43mprint(job_offer_details)\u001b[39;49m\u001b[38;5;130;43;01m\\n\u001b[39;49;00m\u001b[33;43m```\u001b[39;49m\u001b[33;43m\"\u001b[39;49m\u001b[43m,\u001b[49m\u001b[43m \u001b[49m\u001b[33;43m\"\u001b[39;49m\u001b[33;43macceptance_prediction\u001b[39;49m\u001b[33;43m\"\u001b[39;49m\u001b[43m:\u001b[49m\u001b[43m \u001b[49m\u001b[33;43m'\u001b[39;49m\u001b[33;43m```json\u001b[39;49m\u001b[38;5;130;43;01m\\n\u001b[39;49;00m\u001b[33;43m{\u001b[39;49m\u001b[38;5;130;43;01m\\n\u001b[39;49;00m\u001b[33;43m  \u001b[39;49m\u001b[33;43m\"\u001b[39;49m\u001b[33;43mprobability\u001b[39;49m\u001b[33;43m\"\u001b[39;49m\u001b[33;43m: 40,\u001b[39;49m\u001b[38;5;130;43;01m\\n\u001b[39;49;00m\u001b[33;43m  \u001b[39;49m\u001b[33;43m\"\u001b[39;49m\u001b[33;43mreasons\u001b[39;49m\u001b[33;43m\"\u001b[39;49m\u001b[33;43m: [\u001b[39;49m\u001b[38;5;130;43;01m\\n\u001b[39;49;00m\u001b[33;43m    \u001b[39;49m\u001b[33;43m\"\u001b[39;49m\u001b[33;43mCTC is lower than candidate\u001b[39;49m\u001b[38;5;130;43;01m\\'\u001b[39;49;00m\u001b[33;43ms expected salary (10 LPA)\u001b[39;49m\u001b[33;43m\"\u001b[39;49m\u001b[33;43m,\u001b[39;49m\u001b[38;5;130;43;01m\\n\u001b[39;49;00m\u001b[33;43m    \u001b[39;49m\u001b[33;43m\"\u001b[39;49m\u001b[33;43mMismatch in work location preference (candidate prefers Coimbatore, offer includes Bangalore)\u001b[39;49m\u001b[33;43m\"\u001b[39;49m\u001b[38;5;130;43;01m\\n\u001b[39;49;00m\u001b[33;43m  ]\u001b[39;49m\u001b[38;5;130;43;01m\\n\u001b[39;49;00m\u001b[33;43m}\u001b[39;49m\u001b[38;5;130;43;01m\\n\u001b[39;49;00m\u001b[33;43m```\u001b[39;49m\u001b[33;43m'\u001b[39;49m\u001b[43m}\u001b[49m\u001b[43m)\u001b[49m\n",
      "\u001b[36mFile \u001b[39m\u001b[32m~/Vipshal WG/Bootcamp/AIBackend/venv/lib/python3.12/site-packages/langgraph/pregel/__init__.py:2719\u001b[39m, in \u001b[36mPregel.invoke\u001b[39m\u001b[34m(self, input, config, stream_mode, output_keys, interrupt_before, interrupt_after, checkpoint_during, debug, **kwargs)\u001b[39m\n\u001b[32m   2716\u001b[39m chunks: \u001b[38;5;28mlist\u001b[39m[Union[\u001b[38;5;28mdict\u001b[39m[\u001b[38;5;28mstr\u001b[39m, Any], Any]] = []\n\u001b[32m   2717\u001b[39m interrupts: \u001b[38;5;28mlist\u001b[39m[Interrupt] = []\n\u001b[32m-> \u001b[39m\u001b[32m2719\u001b[39m \u001b[43m\u001b[49m\u001b[38;5;28;43;01mfor\u001b[39;49;00m\u001b[43m \u001b[49m\u001b[43mchunk\u001b[49m\u001b[43m \u001b[49m\u001b[38;5;129;43;01min\u001b[39;49;00m\u001b[43m \u001b[49m\u001b[38;5;28;43mself\u001b[39;49m\u001b[43m.\u001b[49m\u001b[43mstream\u001b[49m\u001b[43m(\u001b[49m\n\u001b[32m   2720\u001b[39m \u001b[43m    \u001b[49m\u001b[38;5;28;43minput\u001b[39;49m\u001b[43m,\u001b[49m\n\u001b[32m   2721\u001b[39m \u001b[43m    \u001b[49m\u001b[43mconfig\u001b[49m\u001b[43m,\u001b[49m\n\u001b[32m   2722\u001b[39m \u001b[43m    \u001b[49m\u001b[43mstream_mode\u001b[49m\u001b[43m=\u001b[49m\u001b[43mstream_mode\u001b[49m\u001b[43m,\u001b[49m\n\u001b[32m   2723\u001b[39m \u001b[43m    \u001b[49m\u001b[43moutput_keys\u001b[49m\u001b[43m=\u001b[49m\u001b[43moutput_keys\u001b[49m\u001b[43m,\u001b[49m\n\u001b[32m   2724\u001b[39m \u001b[43m    \u001b[49m\u001b[43minterrupt_before\u001b[49m\u001b[43m=\u001b[49m\u001b[43minterrupt_before\u001b[49m\u001b[43m,\u001b[49m\n\u001b[32m   2725\u001b[39m \u001b[43m    \u001b[49m\u001b[43minterrupt_after\u001b[49m\u001b[43m=\u001b[49m\u001b[43minterrupt_after\u001b[49m\u001b[43m,\u001b[49m\n\u001b[32m   2726\u001b[39m \u001b[43m    \u001b[49m\u001b[43mcheckpoint_during\u001b[49m\u001b[43m=\u001b[49m\u001b[43mcheckpoint_during\u001b[49m\u001b[43m,\u001b[49m\n\u001b[32m   2727\u001b[39m \u001b[43m    \u001b[49m\u001b[43mdebug\u001b[49m\u001b[43m=\u001b[49m\u001b[43mdebug\u001b[49m\u001b[43m,\u001b[49m\n\u001b[32m   2728\u001b[39m \u001b[43m    \u001b[49m\u001b[43m*\u001b[49m\u001b[43m*\u001b[49m\u001b[43mkwargs\u001b[49m\u001b[43m,\u001b[49m\n\u001b[32m   2729\u001b[39m \u001b[43m\u001b[49m\u001b[43m)\u001b[49m\u001b[43m:\u001b[49m\n\u001b[32m   2730\u001b[39m \u001b[43m    \u001b[49m\u001b[38;5;28;43;01mif\u001b[39;49;00m\u001b[43m \u001b[49m\u001b[43mstream_mode\u001b[49m\u001b[43m \u001b[49m\u001b[43m==\u001b[49m\u001b[43m \u001b[49m\u001b[33;43m\"\u001b[39;49m\u001b[33;43mvalues\u001b[39;49m\u001b[33;43m\"\u001b[39;49m\u001b[43m:\u001b[49m\n\u001b[32m   2731\u001b[39m \u001b[43m        \u001b[49m\u001b[38;5;28;43;01mif\u001b[39;49;00m\u001b[43m \u001b[49m\u001b[43m(\u001b[49m\n\u001b[32m   2732\u001b[39m \u001b[43m            \u001b[49m\u001b[38;5;28;43misinstance\u001b[39;49m\u001b[43m(\u001b[49m\u001b[43mchunk\u001b[49m\u001b[43m,\u001b[49m\u001b[43m \u001b[49m\u001b[38;5;28;43mdict\u001b[39;49m\u001b[43m)\u001b[49m\n\u001b[32m   2733\u001b[39m \u001b[43m            \u001b[49m\u001b[38;5;129;43;01mand\u001b[39;49;00m\u001b[43m \u001b[49m\u001b[43m(\u001b[49m\u001b[43mints\u001b[49m\u001b[43m \u001b[49m\u001b[43m:=\u001b[49m\u001b[43m \u001b[49m\u001b[43mchunk\u001b[49m\u001b[43m.\u001b[49m\u001b[43mget\u001b[49m\u001b[43m(\u001b[49m\u001b[43mINTERRUPT\u001b[49m\u001b[43m)\u001b[49m\u001b[43m)\u001b[49m\u001b[43m \u001b[49m\u001b[38;5;129;43;01mis\u001b[39;49;00m\u001b[43m \u001b[49m\u001b[38;5;129;43;01mnot\u001b[39;49;00m\u001b[43m \u001b[49m\u001b[38;5;28;43;01mNone\u001b[39;49;00m\n\u001b[32m   2734\u001b[39m \u001b[43m        \u001b[49m\u001b[43m)\u001b[49m\u001b[43m:\u001b[49m\n",
      "\u001b[36mFile \u001b[39m\u001b[32m~/Vipshal WG/Bootcamp/AIBackend/venv/lib/python3.12/site-packages/langgraph/pregel/__init__.py:2436\u001b[39m, in \u001b[36mPregel.stream\u001b[39m\u001b[34m(self, input, config, stream_mode, output_keys, interrupt_before, interrupt_after, checkpoint_during, debug, subgraphs)\u001b[39m\n\u001b[32m   2434\u001b[39m         \u001b[38;5;28;01mfor\u001b[39;00m task \u001b[38;5;129;01min\u001b[39;00m loop.match_cached_writes():\n\u001b[32m   2435\u001b[39m             loop.output_writes(task.id, task.writes, cached=\u001b[38;5;28;01mTrue\u001b[39;00m)\n\u001b[32m-> \u001b[39m\u001b[32m2436\u001b[39m \u001b[43m        \u001b[49m\u001b[38;5;28;43;01mfor\u001b[39;49;00m\u001b[43m \u001b[49m\u001b[43m_\u001b[49m\u001b[43m \u001b[49m\u001b[38;5;129;43;01min\u001b[39;49;00m\u001b[43m \u001b[49m\u001b[43mrunner\u001b[49m\u001b[43m.\u001b[49m\u001b[43mtick\u001b[49m\u001b[43m(\u001b[49m\n\u001b[32m   2437\u001b[39m \u001b[43m            \u001b[49m\u001b[43m[\u001b[49m\u001b[43mt\u001b[49m\u001b[43m \u001b[49m\u001b[38;5;28;43;01mfor\u001b[39;49;00m\u001b[43m \u001b[49m\u001b[43mt\u001b[49m\u001b[43m \u001b[49m\u001b[38;5;129;43;01min\u001b[39;49;00m\u001b[43m \u001b[49m\u001b[43mloop\u001b[49m\u001b[43m.\u001b[49m\u001b[43mtasks\u001b[49m\u001b[43m.\u001b[49m\u001b[43mvalues\u001b[49m\u001b[43m(\u001b[49m\u001b[43m)\u001b[49m\u001b[43m \u001b[49m\u001b[38;5;28;43;01mif\u001b[39;49;00m\u001b[43m \u001b[49m\u001b[38;5;129;43;01mnot\u001b[39;49;00m\u001b[43m \u001b[49m\u001b[43mt\u001b[49m\u001b[43m.\u001b[49m\u001b[43mwrites\u001b[49m\u001b[43m]\u001b[49m\u001b[43m,\u001b[49m\n\u001b[32m   2438\u001b[39m \u001b[43m            \u001b[49m\u001b[43mtimeout\u001b[49m\u001b[43m=\u001b[49m\u001b[38;5;28;43mself\u001b[39;49m\u001b[43m.\u001b[49m\u001b[43mstep_timeout\u001b[49m\u001b[43m,\u001b[49m\n\u001b[32m   2439\u001b[39m \u001b[43m            \u001b[49m\u001b[43mget_waiter\u001b[49m\u001b[43m=\u001b[49m\u001b[43mget_waiter\u001b[49m\u001b[43m,\u001b[49m\n\u001b[32m   2440\u001b[39m \u001b[43m            \u001b[49m\u001b[43mschedule_task\u001b[49m\u001b[43m=\u001b[49m\u001b[43mloop\u001b[49m\u001b[43m.\u001b[49m\u001b[43maccept_push\u001b[49m\u001b[43m,\u001b[49m\n\u001b[32m   2441\u001b[39m \u001b[43m        \u001b[49m\u001b[43m)\u001b[49m\u001b[43m:\u001b[49m\n\u001b[32m   2442\u001b[39m \u001b[43m            \u001b[49m\u001b[38;5;66;43;03m# emit output\u001b[39;49;00m\n\u001b[32m   2443\u001b[39m \u001b[43m            \u001b[49m\u001b[38;5;28;43;01myield from\u001b[39;49;00m\u001b[43m \u001b[49m\u001b[43moutput\u001b[49m\u001b[43m(\u001b[49m\u001b[43m)\u001b[49m\n\u001b[32m   2444\u001b[39m \u001b[38;5;66;03m# emit output\u001b[39;00m\n",
      "\u001b[36mCell\u001b[39m\u001b[36m \u001b[39m\u001b[32mIn[7]\u001b[39m\u001b[32m, line 11\u001b[39m, in \u001b[36mfetch_resources_with_rag\u001b[39m\u001b[34m(state)\u001b[39m\n\u001b[32m     10\u001b[39m \u001b[38;5;28;01mdef\u001b[39;00m\u001b[38;5;250m \u001b[39m\u001b[34mfetch_resources_with_rag\u001b[39m(state: UpskillAgentState) -> UpskillAgentState:\n\u001b[32m---> \u001b[39m\u001b[32m11\u001b[39m     role = \u001b[43mstate\u001b[49m\u001b[43m[\u001b[49m\u001b[33;43m\"\u001b[39;49m\u001b[33;43moffer_components\u001b[39;49m\u001b[33;43m\"\u001b[39;49m\u001b[43m]\u001b[49m\u001b[43m.\u001b[49m\u001b[43mget\u001b[49m(\u001b[33m\"\u001b[39m\u001b[33mjob_title\u001b[39m\u001b[33m\"\u001b[39m, \u001b[33m\"\u001b[39m\u001b[33m\"\u001b[39m)\n\u001b[32m     12\u001b[39m     company = state[\u001b[33m\"\u001b[39m\u001b[33moffer_components\u001b[39m\u001b[33m\"\u001b[39m].get(\u001b[33m\"\u001b[39m\u001b[33mcompany\u001b[39m\u001b[33m\"\u001b[39m, \u001b[33m\"\u001b[39m\u001b[33m\"\u001b[39m)\n\u001b[32m     13\u001b[39m     tools = state[\u001b[33m\"\u001b[39m\u001b[33moffer_components\u001b[39m\u001b[33m\"\u001b[39m].get(\u001b[33m\"\u001b[39m\u001b[33mtech_stack\u001b[39m\u001b[33m\"\u001b[39m, \u001b[33m\"\u001b[39m\u001b[33m\"\u001b[39m)\n",
      "\u001b[31mAttributeError\u001b[39m: 'str' object has no attribute 'get'",
      "During task with name 'fetch_resources' and id '8cdf02d0-df08-14f9-4867-41e334923ed3'"
     ]
    }
   ],
   "source": [
    "result = app.invoke({\"offer_components\": \"```python\\njob_offer_details = {\\n    'ctc': '₹ 6-9 LPA',\\n    'bonuses': None,  # Not mentioned in the text\\n    'job_title': 'Software Developer',\\n    'responsibilities': [\\n        'Develop and maintain web applications using modern programming languages and frameworks.',\\n        'Collaborate with cross-functional teams to design, define, and deliver new features.',\\n        'Write clean, reusable, and efficient code.',\\n        'Implement and maintain robust security and data protection measures.',\\n        'Optimize applications for performance and scalability.',\\n        'Troubleshoot and resolve development and production issues.',\\n        'Stay updated with emerging technologies and industry trends.'\\n    ],\\n    'location': 'Coimbatore/Bangalore',\\n    'bond_duration': None,  # Not mentioned in the text\\n    'benefits': None #Not explicitly listed, but implied by the description of SNSiHub's offerings.\\n}\\n\\nprint(job_offer_details)\\n```\", \"acceptance_prediction\": '```json\\n{\\n  \"probability\": 40,\\n  \"reasons\": [\\n    \"CTC is lower than candidate\\'s expected salary (10 LPA)\",\\n    \"Mismatch in work location preference (candidate prefers Coimbatore, offer includes Bangalore)\"\\n  ]\\n}\\n```'})"
   ]
  }
 ],
 "metadata": {
  "kernelspec": {
   "display_name": "venv",
   "language": "python",
   "name": "python3"
  },
  "language_info": {
   "codemirror_mode": {
    "name": "ipython",
    "version": 3
   },
   "file_extension": ".py",
   "mimetype": "text/x-python",
   "name": "python",
   "nbconvert_exporter": "python",
   "pygments_lexer": "ipython3",
   "version": "3.12.6"
  }
 },
 "nbformat": 4,
 "nbformat_minor": 5
}
