{
 "cells": [
  {
   "cell_type": "code",
   "execution_count": 31,
   "id": "97e3e7f0",
   "metadata": {},
   "outputs": [],
   "source": [
    "from langgraph.graph import StateGraph, END\n",
    "from dotenv import load_dotenv\n",
    "import os\n",
    "from langgraph.prebuilt import tool_node\n",
    "import google.generativeai as genai\n",
    "import fitz\n",
    "from typing import TypedDict\n",
    "from pprint import pprint\n",
    "import json"
   ]
  },
  {
   "cell_type": "code",
   "execution_count": 32,
   "id": "619ce8ae",
   "metadata": {},
   "outputs": [],
   "source": [
    "class AgentType(TypedDict):\n",
    "    resume_text: str\n",
    "    preference_alignment: dict"
   ]
  },
  {
   "cell_type": "code",
   "execution_count": 33,
   "id": "12d4cd3d",
   "metadata": {},
   "outputs": [],
   "source": [
    "load_dotenv()\n",
    "\n",
    "GEMINI_API_KEY = os.getenv(\"GEMINI_API_KEY\")\n",
    "genai.configure(api_key=GEMINI_API_KEY)\n",
    "\n",
    "model = genai.GenerativeModel(\"gemini-1.5-flash\")"
   ]
  },
  {
   "cell_type": "code",
   "execution_count": null,
   "id": "ba0044d7",
   "metadata": {},
   "outputs": [
    {
     "name": "stdout",
     "output_type": "stream",
     "text": [
      "Software Engineer\n",
      "vipshalgw@gmail.com\n",
      "https://www.linkedin.com/in/vipshal\n",
      "+919524045269\n",
      "Coimbatore, Tamil Nadu, 641035, India\n",
      "I'm a passionate Full Stack Developer with over 1+ years of experience, specializing in MERN and PERN stack \n",
      "development. I thrive in dynamic environments, leveraging my skills to build scalable web applications and deliver \n",
      "impactful solutions. Always eager to learn and grow, I aim to contribute to innovative projects that make a difference.\n",
      "Work Experience\n",
      "Projects\n",
      "Vipshal WG\n",
      "Software Engineer\n",
      "SNS Square | Coimbatore\n",
      " - \n",
      "Worked in a fast-paced startup environment for over 1+ years, gaining hands-on experience with the MERN and PERN \n",
      "stacks. Contributed to building scalable web applications by working across both frontend and backend development. \n",
      "Integrated technologies such as Elasticsearch for advanced search capabilities and RabbitMQ for reliable \n",
      "asynchronous communication.\n",
      "Nov 2024\n",
      "Present\n",
      "Square Bridge\n",
      " - \n",
      "This was the tool which will bridge student, pla\n"
     ]
    }
   ],
   "source": [
    "def extract_text_from_pdf(pdf_path):\n",
    "    doc = fitz.open(pdf_path)\n",
    "    text = \"\\n\".join(page.get_text() for page in doc)\n",
    "    return text\n",
    "\n",
    "resume_text = extract_text_from_pdf(\"resume.pdf\")\n",
    "print(resume_text[:1000])"
   ]
  },
  {
   "cell_type": "code",
   "execution_count": 35,
   "id": "d3545769",
   "metadata": {},
   "outputs": [],
   "source": [
    "def candidate_preference_agent(state):\n",
    "    resume_text = state[\"resume_text\"]\n",
    "    prompt = f\"\"\"\n",
    "    You are a career guidance AI assistant. A student's resume is provided below.\n",
    "    Please extract their job-related preferences in this structured JSON format:\n",
    "\n",
    "    {{\n",
    "      \"preferred_location\": \"...\",\n",
    "      \"interests\": [\"...\", \"...\"],\n",
    "      \"skills\": [\"...\", \"...\"],\n",
    "      \"expected_ctc\": \"...\",\n",
    "      \"career_goals\": \"...\"\n",
    "    }}\n",
    "\n",
    "    Resume Text:\n",
    "    {resume_text}\n",
    "    \"\"\"\n",
    "\n",
    "    response = model.generate_content(prompt)\n",
    "    return {\"preference_alignment\": response.text}\n"
   ]
  },
  {
   "cell_type": "code",
   "execution_count": 36,
   "id": "ddeb3219",
   "metadata": {},
   "outputs": [],
   "source": [
    "builder = StateGraph(AgentType)\n",
    "\n",
    "\n",
    "builder.add_node(\"CandidatePreference\", candidate_preference_agent)\n",
    "builder.set_entry_point(\"CandidatePreference\")\n",
    "builder.set_finish_point(\"CandidatePreference\")\n",
    "\n",
    "graph = builder.compile()\n"
   ]
  },
  {
   "cell_type": "code",
   "execution_count": 37,
   "id": "15548019",
   "metadata": {},
   "outputs": [
    {
     "name": "stdout",
     "output_type": "stream",
     "text": [
      "{'career_goals': 'Contribute to innovative projects that make a difference',\n",
      " 'expected_ctc': None,\n",
      " 'interests': ['Full Stack Development',\n",
      "               'MERN Stack',\n",
      "               'PERN Stack',\n",
      "               'Scalable Web Applications',\n",
      "               'Innovative Projects'],\n",
      " 'preferred_location': 'Coimbatore, Tamil Nadu, India',\n",
      " 'skills': ['JavaScript',\n",
      "            'Nodejs',\n",
      "            'fastAPI',\n",
      "            'Python',\n",
      "            'Express js',\n",
      "            'MongoDB',\n",
      "            'PostgreSQL',\n",
      "            'Redis',\n",
      "            'Elasticsearch',\n",
      "            'RabbitMQ',\n",
      "            'React js',\n",
      "            'Next js',\n",
      "            'Amazon S3',\n",
      "            'AWS Elastic Beanstalk',\n",
      "            'AWS Cloudfront',\n",
      "            'Prisma ORM',\n",
      "            'UI/UX',\n",
      "            'Responsive Web Design']}\n"
     ]
    }
   ],
   "source": [
    "result = graph.invoke({\n",
    "    \"resume_text\": resume_text\n",
    "})\n",
    "\n",
    "json_string = result[\"preference_alignment\"].strip().replace('```json\\n', '').replace('\\n```', '')\n",
    "formatted_dict = json.loads(json_string)\n",
    "pprint(formatted_dict)\n"
   ]
  }
 ],
 "metadata": {
  "kernelspec": {
   "display_name": "venv",
   "language": "python",
   "name": "python3"
  },
  "language_info": {
   "codemirror_mode": {
    "name": "ipython",
    "version": 3
   },
   "file_extension": ".py",
   "mimetype": "text/x-python",
   "name": "python",
   "nbconvert_exporter": "python",
   "pygments_lexer": "ipython3",
   "version": "3.12.3"
  }
 },
 "nbformat": 4,
 "nbformat_minor": 5
}
