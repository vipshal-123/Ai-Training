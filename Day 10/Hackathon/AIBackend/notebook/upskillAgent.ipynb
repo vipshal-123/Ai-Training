{
 "cells": [
  {
   "cell_type": "code",
   "execution_count": 15,
   "id": "85721dd6",
   "metadata": {},
   "outputs": [],
   "source": [
    "from langgraph.graph import StateGraph, END\n",
    "from dotenv import load_dotenv\n",
    "import os\n",
    "from langgraph.prebuilt import tool_node\n",
    "import google.generativeai as genai\n",
    "import fitz\n",
    "from typing import TypedDict\n",
    "from pprint import pprint\n",
    "import json"
   ]
  },
  {
   "cell_type": "code",
   "execution_count": 16,
   "id": "29f55140",
   "metadata": {},
   "outputs": [],
   "source": [
    "class AgentType(TypedDict):\n",
    "    offer_analysis: dict\n",
    "    preference_alignment: dict\n",
    "    upskill_recommendations: dict"
   ]
  },
  {
   "cell_type": "code",
   "execution_count": 17,
   "id": "68cbcee9",
   "metadata": {},
   "outputs": [],
   "source": [
    "load_dotenv()\n",
    "\n",
    "GEMINI_API_KEY = os.getenv(\"GEMINI_API_KEY\")\n",
    "genai.configure(api_key=GEMINI_API_KEY)\n",
    "\n",
    "model = genai.GenerativeModel(\"gemini-1.5-flash\")"
   ]
  },
  {
   "cell_type": "code",
   "execution_count": 18,
   "id": "df948e2d",
   "metadata": {},
   "outputs": [],
   "source": [
    "def upskill_agent(state):\n",
    "    offer = state[\"offer_analysis\"]\n",
    "    preference = state[\"preference_alignment\"]\n",
    "\n",
    "    if isinstance(offer, str):\n",
    "        offer = json.loads(offer)\n",
    "    if isinstance(preference, str):\n",
    "        preference = json.loads(preference)\n",
    "\n",
    "    prompt = f\"\"\"\n",
    "    You are a career development AI assistant.\n",
    "    Given the following job offer details and the candidate's current skills and interests,\n",
    "    suggest onboarding preparation materials in this format:\n",
    "\n",
    "    {{\n",
    "      \"recommended_courses\": [\"course 1\", \"course 2\", ...],\n",
    "      \"onboarding_resources\": [\"resource 1\", \"resource 2\", ...],\n",
    "      \"skill_gap_analysis\": \"Brief explanation of missing or weak skills\"\n",
    "    }}\n",
    "\n",
    "    Job Offer:\n",
    "    {json.dumps(offer, indent=2)}\n",
    "\n",
    "    Candidate Profile:\n",
    "    {json.dumps(preference, indent=2)}\n",
    "    \"\"\"\n",
    "\n",
    "    response = model.generate_content(prompt)\n",
    "    return {\"upskill_recommendations\": response.text}\n"
   ]
  },
  {
   "cell_type": "code",
   "execution_count": 19,
   "id": "d407b225",
   "metadata": {},
   "outputs": [],
   "source": [
    "builder = StateGraph(AgentType)\n",
    "\n",
    "builder.add_node(\"UpskillAgent\", upskill_agent)\n",
    "builder.set_entry_point(\"UpskillAgent\")\n",
    "builder.set_finish_point(\"UpskillAgent\")\n",
    "\n",
    "graph = builder.compile()\n"
   ]
  },
  {
   "cell_type": "code",
   "execution_count": 20,
   "id": "67ea78d4",
   "metadata": {},
   "outputs": [
    {
     "name": "stdout",
     "output_type": "stream",
     "text": [
      "{'onboarding_resources': ['Company Internal Wiki/Documentation',\n",
      "                          'Code Style Guide',\n",
      "                          'Project Management Tool Tutorial (e.g., Jira, '\n",
      "                          'Asana)',\n",
      "                          'Git Workflow and Best Practices Guide',\n",
      "                          'Introduction to the Company Culture and Values',\n",
      "                          'Team Introduction and Communication Channels',\n",
      "                          'Onboarding Checklist and Timeline'],\n",
      " 'recommended_courses': ['Advanced React.js and Redux',\n",
      "                         'Mastering Next.js',\n",
      "                         'Building Scalable APIs with Node.js and Express.js',\n",
      "                         'Microservices Architecture with Node.js',\n",
      "                         'Optimizing Database Performance with PostgreSQL',\n",
      "                         'AWS Certified Developer - Associate'],\n",
      " 'skill_gap_analysis': 'While the candidate possesses a strong foundation in '\n",
      "                       'full-stack development with experience in MERN and '\n",
      "                       'PERN stacks,  further specialization in areas like '\n",
      "                       'advanced React.js, Redux, Next.js optimization and '\n",
      "                       'deeper understanding of microservices architecture '\n",
      "                       'would be beneficial.  More comprehensive AWS '\n",
      "                       'knowledge, especially beyond Elastic Beanstalk and '\n",
      "                       'Cloudfront, is also recommended.  The candidate’s '\n",
      "                       'skillset aligns well with the job requirements but '\n",
      "                       'targeted training will enhance their efficiency and '\n",
      "                       'contributions.'}\n"
     ]
    }
   ],
   "source": [
    "result = graph.invoke({\n",
    "    \"offer_analysis\": {'bond_terms': None,\n",
    " 'job_title': 'Software Engineer',\n",
    " 'joining_date': '2017-05-18',\n",
    " 'location': 'Nasik',\n",
    " 'salary': {'gross_annual': 314935.38,\n",
    "            'monthly_breakdown': {'basic': 8000,\n",
    "                                  'bonus': 6300,\n",
    "                                  'conveyance': 3600,\n",
    "                                  'education_allowance': 3600,\n",
    "                                  'gratuity': 4615,\n",
    "                                  'hra': 4800,\n",
    "                                  'leave_benefit': 14000,\n",
    "                                  'medical_reimbursement': 1500,\n",
    "                                  'mediclaim': 1000,\n",
    "                                  'pf': 960,\n",
    "                                  'variable': 3000},\n",
    "            'variable_component': 'Based on monthly PPI (Personal Performance '\n",
    "                                  'Index) + CPI (Company Performance Index)'}},\n",
    "    \"preference_alignment\": {'career_goals': 'Contribute to innovative projects that make a difference',\n",
    " 'expected_ctc': None,\n",
    " 'interests': ['Full Stack Development',\n",
    "               'MERN Stack',\n",
    "               'PERN Stack',\n",
    "               'Scalable Web Applications',\n",
    "               'Innovative Projects'],\n",
    " 'preferred_location': 'Coimbatore, Tamil Nadu, India',\n",
    " 'skills': ['JavaScript',\n",
    "            'Nodejs',\n",
    "            'fastAPI',\n",
    "            'Python',\n",
    "            'Express js',\n",
    "            'MongoDB',\n",
    "            'PostgreSQL',\n",
    "            'Redis',\n",
    "            'Elasticsearch',\n",
    "            'RabbitMQ',\n",
    "            'React js',\n",
    "            'Next js',\n",
    "            'Amazon S3',\n",
    "            'AWS Elastic Beanstalk',\n",
    "            'AWS Cloudfront',\n",
    "            'Prisma ORM',\n",
    "            'UI/UX',\n",
    "            'Responsive Web Design']}\n",
    "})\n",
    "\n",
    "json_string = result[\"upskill_recommendations\"].strip().replace('```json\\n', '').replace('\\n```', '')\n",
    "formatted_dict = json.loads(json_string)\n",
    "pprint(formatted_dict)"
   ]
  }
 ],
 "metadata": {
  "kernelspec": {
   "display_name": "venv",
   "language": "python",
   "name": "python3"
  },
  "language_info": {
   "codemirror_mode": {
    "name": "ipython",
    "version": 3
   },
   "file_extension": ".py",
   "mimetype": "text/x-python",
   "name": "python",
   "nbconvert_exporter": "python",
   "pygments_lexer": "ipython3",
   "version": "3.12.3"
  }
 },
 "nbformat": 4,
 "nbformat_minor": 5
}
