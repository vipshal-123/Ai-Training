{
 "cells": [
  {
   "cell_type": "code",
   "execution_count": 12,
   "id": "79ebace0",
   "metadata": {},
   "outputs": [],
   "source": [
    "from langgraph.graph import StateGraph, END\n",
    "from dotenv import load_dotenv\n",
    "import os\n",
    "from langgraph.prebuilt import tool_node\n",
    "import google.generativeai as genai\n",
    "import fitz\n",
    "from typing import TypedDict\n",
    "from pprint import pprint\n",
    "import json"
   ]
  },
  {
   "cell_type": "code",
   "execution_count": 13,
   "id": "4eda2917",
   "metadata": {},
   "outputs": [],
   "source": [
    "class AgentType(TypedDict):\n",
    "    offer_analysis: dict\n",
    "    preference_alignment: dict\n",
    "    acceptance_prediction: dict"
   ]
  },
  {
   "cell_type": "code",
   "execution_count": 14,
   "id": "0e54a156",
   "metadata": {},
   "outputs": [],
   "source": [
    "load_dotenv()\n",
    "\n",
    "GEMINI_API_KEY = os.getenv(\"GEMINI_API_KEY\")\n",
    "genai.configure(api_key=GEMINI_API_KEY)\n",
    "\n",
    "model = genai.GenerativeModel(\"gemini-1.5-flash\")"
   ]
  },
  {
   "cell_type": "code",
   "execution_count": 15,
   "id": "a2e1b5f3",
   "metadata": {},
   "outputs": [],
   "source": [
    "\n",
    "def acceptance_likelihood_agent(state):\n",
    "    # Extract and parse the previous outputs\n",
    "    offer = state[\"offer_analysis\"]\n",
    "    preference = state[\"preference_alignment\"]\n",
    "\n",
    "    # Ensure data is parsed to dict if it's still a JSON string\n",
    "    if isinstance(offer, str):\n",
    "        offer = json.loads(offer)\n",
    "    if isinstance(preference, str):\n",
    "        preference = json.loads(preference)\n",
    "\n",
    "    # Create a prompt for Gemini\n",
    "    prompt = f\"\"\"\n",
    "    You are an AI placement counselor.\n",
    "    Based on the offer details and the candidate's preferences, predict the likelihood that the student will accept the job.\n",
    "\n",
    "    Offer Details:\n",
    "    {json.dumps(offer, indent=2)}\n",
    "\n",
    "    Candidate Preferences:\n",
    "    {json.dumps(preference, indent=2)}\n",
    "\n",
    "    Respond in the following format:\n",
    "    {{\n",
    "      \"acceptance_likelihood\": <percentage from 0 to 100>,\n",
    "      \"reasoning\": \"short explanation of why the student is likely/unlikely to accept\"\n",
    "    }}\n",
    "    \"\"\"\n",
    "\n",
    "    response = model.generate_content(prompt)\n",
    "    return {\"acceptance_prediction\": response.text}"
   ]
  },
  {
   "cell_type": "code",
   "execution_count": 16,
   "id": "51c32749",
   "metadata": {},
   "outputs": [],
   "source": [
    "builder = StateGraph(AgentType)\n",
    "\n",
    "\n",
    "builder.add_node(\"AcceptanceLikelihood\", acceptance_likelihood_agent)\n",
    "builder.set_entry_point(\"AcceptanceLikelihood\")\n",
    "builder.set_finish_point(\"AcceptanceLikelihood\")\n",
    "\n",
    "graph = builder.compile()\n"
   ]
  },
  {
   "cell_type": "code",
   "execution_count": 17,
   "id": "9c6e8ce6",
   "metadata": {},
   "outputs": [
    {
     "name": "stdout",
     "output_type": "stream",
     "text": [
      "{'acceptance_likelihood': 30,\n",
      " 'reasoning': \"The candidate's strong preference for Coimbatore significantly \"\n",
      "              'lowers the likelihood of acceptance.  The Nasik location is a '\n",
      "              \"major drawback. While the salary is reasonable,  there's no \"\n",
      "              \"information on the specifics of the projects or the company's \"\n",
      "              \"culture, both of which are important given the candidate's \"\n",
      "              \"focus on innovative projects. The candidate's skills align with \"\n",
      "              'the Software Engineer role, but the location mismatch is the '\n",
      "              'dominant factor in predicting a low probability of acceptance.'}\n"
     ]
    }
   ],
   "source": [
    "\n",
    "result = graph.invoke({\n",
    "    \"offer_analysis\": {'bond_terms': None,\n",
    " 'job_title': 'Software Engineer',\n",
    " 'joining_date': '2017-05-18',\n",
    " 'location': 'Nasik',\n",
    " 'salary': {'gross_annual': 314935.38,\n",
    "            'monthly_breakdown': {'basic': 8000,\n",
    "                                  'bonus': 6300,\n",
    "                                  'conveyance': 3600,\n",
    "                                  'education_allowance': 3600,\n",
    "                                  'gratuity': 4615,\n",
    "                                  'hra': 4800,\n",
    "                                  'leave_benefit': 14000,\n",
    "                                  'medical_reimbursement': 1500,\n",
    "                                  'mediclaim': 1000,\n",
    "                                  'pf': 960,\n",
    "                                  'variable': 3000},\n",
    "            'variable_component': 'Based on monthly PPI (Personal Performance '\n",
    "                                  'Index) + CPI (Company Performance Index)'}},\n",
    "    \"preference_alignment\": {'career_goals': 'Contribute to innovative projects that make a difference',\n",
    " 'expected_ctc': None,\n",
    " 'interests': ['Full Stack Development',\n",
    "               'MERN Stack',\n",
    "               'PERN Stack',\n",
    "               'Scalable Web Applications',\n",
    "               'Innovative Projects'],\n",
    " 'preferred_location': 'Coimbatore, Tamil Nadu, India',\n",
    " 'skills': ['JavaScript',\n",
    "            'Nodejs',\n",
    "            'fastAPI',\n",
    "            'Python',\n",
    "            'Express js',\n",
    "            'MongoDB',\n",
    "            'PostgreSQL',\n",
    "            'Redis',\n",
    "            'Elasticsearch',\n",
    "            'RabbitMQ',\n",
    "            'React js',\n",
    "            'Next js',\n",
    "            'Amazon S3',\n",
    "            'AWS Elastic Beanstalk',\n",
    "            'AWS Cloudfront',\n",
    "            'Prisma ORM',\n",
    "            'UI/UX',\n",
    "            'Responsive Web Design']}\n",
    "})\n",
    "\n",
    "json_string = result[\"acceptance_prediction\"].strip().replace('```json\\n', '').replace('\\n```', '')\n",
    "formatted_dict = json.loads(json_string)\n",
    "pprint(formatted_dict)\n"
   ]
  }
 ],
 "metadata": {
  "kernelspec": {
   "display_name": "venv",
   "language": "python",
   "name": "python3"
  },
  "language_info": {
   "codemirror_mode": {
    "name": "ipython",
    "version": 3
   },
   "file_extension": ".py",
   "mimetype": "text/x-python",
   "name": "python",
   "nbconvert_exporter": "python",
   "pygments_lexer": "ipython3",
   "version": "3.12.3"
  }
 },
 "nbformat": 4,
 "nbformat_minor": 5
}
