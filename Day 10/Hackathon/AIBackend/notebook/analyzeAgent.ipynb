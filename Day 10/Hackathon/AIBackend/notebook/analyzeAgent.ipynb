{
 "cells": [
  {
   "cell_type": "code",
   "execution_count": 227,
   "id": "0cc86428",
   "metadata": {},
   "outputs": [],
   "source": [
    "from langgraph.graph import StateGraph, END\n",
    "from dotenv import load_dotenv\n",
    "import os\n",
    "from langgraph.prebuilt import tool_node\n",
    "import google.generativeai as genai\n",
    "import fitz\n",
    "from typing import TypedDict\n",
    "from pprint import pprint\n",
    "import json\n",
    "# from langchain_google_genai import ChatGoogleGenerativeAI"
   ]
  },
  {
   "cell_type": "code",
   "execution_count": 228,
   "id": "d79b38bc",
   "metadata": {},
   "outputs": [],
   "source": [
    "class AgentType(TypedDict):\n",
    "    offer_text: str\n",
    "    offer_analysis: dict"
   ]
  },
  {
   "cell_type": "code",
   "execution_count": 229,
   "id": "900faae8",
   "metadata": {},
   "outputs": [],
   "source": [
    "load_dotenv()\n",
    "\n",
    "GEMINI_API_KEY = os.getenv(\"GEMINI_API_KEY\")\n",
    "genai.configure(api_key=GEMINI_API_KEY)\n",
    "\n",
    "model = genai.GenerativeModel(\"gemini-1.5-flash\")"
   ]
  },
  {
   "cell_type": "code",
   "execution_count": 230,
   "id": "fda044ba",
   "metadata": {},
   "outputs": [
    {
     "name": "stdout",
     "output_type": "stream",
     "text": [
      " \n",
      "EMPLOYMENT OFFER     \n",
      " \n",
      " \n",
      " \n",
      "Date: 4th May 2017. \n",
      "To, \n",
      " \n",
      "Ms.Archana Tarle, \n",
      "Nasik \n",
      "Sub: Offer letter for the post of Software Engineer. \n",
      "Dear Ms. Archana Tarle, \n",
      "With reference to the personal interview you had with us on 19th April 2017, we hereby offer you the \n",
      "post of Software Engineer with our Organization. You should join Netwin latest by 18th May 2017 at \n",
      "Nasik by 10.30 am. \n",
      "You will be governed by the rules and regulations of the Company. You will get the Letter of \n",
      "Appointment after receiving your acceptance of this offer letter and the necessary documents as \n",
      "mentioned in this letter. \n",
      "You will be paid gross emoluments as detailed in Annexure – A. \n",
      "Your employment with us will be governed by the Terms & Conditions as detailed in Annexure – B. \n",
      "This Offer Letter is subject to the following conditions: \n",
      "  1) Netwin should receive your acceptance letter within 2 days of issue of this letter. \n",
      "  2) You should submit to Netwin a copy of your Resignation Letter given to your curren\n"
     ]
    }
   ],
   "source": [
    "def extract_text_from_pdf(pdf_path):\n",
    "    doc = fitz.open(pdf_path)\n",
    "    text = \"\\n\".join(page.get_text() for page in doc)\n",
    "    return text\n",
    "\n",
    "offer_text = extract_text_from_pdf(\"offer.pdf\")\n",
    "print(offer_text[:1000])"
   ]
  },
  {
   "cell_type": "code",
   "execution_count": 231,
   "id": "4a50c474",
   "metadata": {},
   "outputs": [],
   "source": [
    "def offer_analyzer_agent(state: AgentType) -> AgentType:\n",
    "    offer_text = state[\"offer_text\"]\n",
    "    prompt = f\"\"\"\n",
    "    You are an HR assistant. Extract structured information from the following job offer letter:\n",
    "\n",
    "    Text:\n",
    "    {offer_text}\n",
    "\n",
    "    Return in JSON format with fields:\n",
    "    - job_title\n",
    "    - salary\n",
    "    - location\n",
    "    - joining_date\n",
    "    - bond_terms\n",
    "    \"\"\"\n",
    "    response = model.generate_content(prompt)\n",
    "    \n",
    "    return {\"offer_analysis\": response.text}\n"
   ]
  },
  {
   "cell_type": "code",
   "execution_count": 232,
   "id": "8da3e32f",
   "metadata": {},
   "outputs": [],
   "source": [
    "builder = StateGraph(AgentType)\n",
    "\n",
    "\n",
    "builder.add_node(\"OfferAnalyzer\", offer_analyzer_agent)\n",
    "builder.set_entry_point(\"OfferAnalyzer\")\n",
    "builder.set_finish_point(\"OfferAnalyzer\")\n",
    "\n",
    "graph = builder.compile()\n"
   ]
  },
  {
   "cell_type": "code",
   "execution_count": 233,
   "id": "847b65e4",
   "metadata": {},
   "outputs": [
    {
     "name": "stdout",
     "output_type": "stream",
     "text": [
      "{'bond_terms': None,\n",
      " 'job_title': 'Software Engineer',\n",
      " 'joining_date': '2017-05-18',\n",
      " 'location': 'Nasik',\n",
      " 'salary': {'gross_annual': 314935.38,\n",
      "            'monthly_breakdown': {'basic': 8000,\n",
      "                                  'bonus': 6300,\n",
      "                                  'conveyance': 3600,\n",
      "                                  'education_allowance': 3600,\n",
      "                                  'gratuity': 4615,\n",
      "                                  'hra': 4800,\n",
      "                                  'leave_benefit': 14000,\n",
      "                                  'medical_reimbursement': 1500,\n",
      "                                  'mediclaim': 1000,\n",
      "                                  'pf': 960,\n",
      "                                  'variable': 3000},\n",
      "            'variable_component': 'Based on monthly PPI (Personal Performance '\n",
      "                                  'Index) + CPI (Company Performance Index)'}}\n"
     ]
    }
   ],
   "source": [
    "result = graph.invoke({\n",
    "    \"offer_text\": offer_text\n",
    "})\n",
    "\n",
    "json_string = result[\"offer_analysis\"].strip().replace('```json\\n', '').replace('\\n```', '')\n",
    "formatted_dict = json.loads(json_string)\n",
    "\n",
    "pprint(formatted_dict)\n"
   ]
  }
 ],
 "metadata": {
  "kernelspec": {
   "display_name": "venv",
   "language": "python",
   "name": "python3"
  },
  "language_info": {
   "codemirror_mode": {
    "name": "ipython",
    "version": 3
   },
   "file_extension": ".py",
   "mimetype": "text/x-python",
   "name": "python",
   "nbconvert_exporter": "python",
   "pygments_lexer": "ipython3",
   "version": "3.12.3"
  }
 },
 "nbformat": 4,
 "nbformat_minor": 5
}
