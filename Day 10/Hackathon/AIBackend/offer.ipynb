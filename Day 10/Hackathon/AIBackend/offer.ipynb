{
 "cells": [
  {
   "cell_type": "code",
   "execution_count": 34,
   "id": "940030d0",
   "metadata": {},
   "outputs": [],
   "source": [
    "from langgraph.graph import StateGraph, END\n",
    "from backend.prompt.prompt import OFFER_EXTRACTION_PROMPT\n",
    "from typing import TypedDict\n",
    "from backend.utils.parsers import parse_offer_file\n",
    "from backend.llm.gemini import gemini_chat"
   ]
  },
  {
   "cell_type": "code",
   "execution_count": 35,
   "id": "5eff6bf6",
   "metadata": {},
   "outputs": [],
   "source": [
    "class OfferAnalyzerState(TypedDict):\n",
    "    file_path: str\n",
    "    raw_text: str\n",
    "    offer_components: dict"
   ]
  },
  {
   "cell_type": "code",
   "execution_count": 36,
   "id": "6481752d",
   "metadata": {},
   "outputs": [],
   "source": [
    "def extract_offer_text(state: OfferAnalyzerState) -> OfferAnalyzerState:\n",
    "    file_path = state[\"file_path\"]\n",
    "    raw_text = parse_offer_file(file_path)\n",
    "    return {**state, \"raw_text\": raw_text}\n",
    "\n",
    "# Step 2: Use Gemini to extract structured components\n",
    "def analyze_offer_with_llm(state: OfferAnalyzerState) -> OfferAnalyzerState:\n",
    "    \n",
    "    response = gemini_chat(\n",
    "        OFFER_EXTRACTION_PROMPT.format(offer_text=state[\"raw_text\"]),\n",
    "    )\n",
    "    \n",
    "    print(\"==========\", response)\n",
    "    try:\n",
    "        structured_data = eval(response) if isinstance(response, str) else response\n",
    "    except Exception as e:\n",
    "        structured_data = {\"error\": str(e)}\n",
    "\n",
    "    return {**state, \"offer_components\": structured_data}"
   ]
  },
  {
   "cell_type": "code",
   "execution_count": 37,
   "id": "74363d01",
   "metadata": {},
   "outputs": [],
   "source": [
    "builder = StateGraph(OfferAnalyzerState)\n",
    "builder.add_node(\"extract_text\", extract_offer_text)\n",
    "builder.add_node(\"llm_analysis\", analyze_offer_with_llm)\n",
    "\n",
    "builder.set_entry_point(\"extract_text\")\n",
    "builder.add_edge(\"extract_text\", \"llm_analysis\")\n",
    "builder.add_edge(\"llm_analysis\", END)\n",
    "app = builder.compile()"
   ]
  },
  {
   "cell_type": "code",
   "execution_count": 38,
   "id": "59b5928d",
   "metadata": {},
   "outputs": [
    {
     "name": "stdout",
     "output_type": "stream",
     "text": [
      "========== content='```python\\njob_offer_data = {\\n    \"ctc\": None,  # Not mentioned in the provided text\\n    \"bonuses\": None,  # Not mentioned in the provided text\\n    \"job_title\": \"Software Engineer\",\\n    \"responsibilities\": \"Worked in a fast-paced startup environment...building scalable web applications by working across both frontend and backend development. Integrated technologies such as Elasticsearch for advanced search capabilities and RabbitMQ for reliable asynchronous communication.\",\\n    \"location\": \"Coimbatore\",\\n    \"bond_duration\": None,  # Not mentioned in the provided text\\n    \"benefits\": None,  # Not mentioned in the provided text\\n}\\n\\nprint(job_offer_data)\\n\\n```' additional_kwargs={} response_metadata={'prompt_feedback': {'block_reason': 0, 'safety_ratings': []}, 'finish_reason': 'STOP', 'model_name': 'gemini-1.5-flash', 'safety_ratings': []} id='run--3af5b95a-26f4-4582-a546-a7114c376af7-0' usage_metadata={'input_tokens': 757, 'output_tokens': 154, 'total_tokens': 911, 'input_token_details': {'cache_read': 0}}\n"
     ]
    },
    {
     "data": {
      "text/plain": [
       "AIMessage(content='```python\\njob_offer_data = {\\n    \"ctc\": None,  # Not mentioned in the provided text\\n    \"bonuses\": None,  # Not mentioned in the provided text\\n    \"job_title\": \"Software Engineer\",\\n    \"responsibilities\": \"Worked in a fast-paced startup environment...building scalable web applications by working across both frontend and backend development. Integrated technologies such as Elasticsearch for advanced search capabilities and RabbitMQ for reliable asynchronous communication.\",\\n    \"location\": \"Coimbatore\",\\n    \"bond_duration\": None,  # Not mentioned in the provided text\\n    \"benefits\": None,  # Not mentioned in the provided text\\n}\\n\\nprint(job_offer_data)\\n\\n```', additional_kwargs={}, response_metadata={'prompt_feedback': {'block_reason': 0, 'safety_ratings': []}, 'finish_reason': 'STOP', 'model_name': 'gemini-1.5-flash', 'safety_ratings': []}, id='run--3af5b95a-26f4-4582-a546-a7114c376af7-0', usage_metadata={'input_tokens': 757, 'output_tokens': 154, 'total_tokens': 911, 'input_token_details': {'cache_read': 0}})"
      ]
     },
     "execution_count": 38,
     "metadata": {},
     "output_type": "execute_result"
    }
   ],
   "source": [
    "result = app.invoke({\"file_path\": \"uploads/two.pdf\"})\n",
    "result[\"offer_components\"]"
   ]
  }
 ],
 "metadata": {
  "kernelspec": {
   "display_name": "venv",
   "language": "python",
   "name": "python3"
  },
  "language_info": {
   "codemirror_mode": {
    "name": "ipython",
    "version": 3
   },
   "file_extension": ".py",
   "mimetype": "text/x-python",
   "name": "python",
   "nbconvert_exporter": "python",
   "pygments_lexer": "ipython3",
   "version": "3.12.6"
  }
 },
 "nbformat": 4,
 "nbformat_minor": 5
}
