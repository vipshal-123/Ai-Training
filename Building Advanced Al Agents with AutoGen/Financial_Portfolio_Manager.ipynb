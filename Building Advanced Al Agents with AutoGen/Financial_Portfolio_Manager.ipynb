{
  "cells": [
    {
      "cell_type": "code",
      "execution_count": null,
      "metadata": {
        "id": "fg3YZlxPiQIR"
      },
      "outputs": [],
      "source": [
        "!pip install pyautogen autogen google-generativeai --quiet"
      ]
    },
    {
      "cell_type": "code",
      "execution_count": null,
      "metadata": {
        "id": "fd0TaA6giRrf"
      },
      "outputs": [],
      "source": [
        "import google.generativeai as genai\n",
        "from autogen import AssistantAgent, UserProxyAgent, GroupChat, GroupChatManager\n",
        "import os"
      ]
    },
    {
      "cell_type": "code",
      "execution_count": null,
      "metadata": {
        "id": "qERZheCZiTn3"
      },
      "outputs": [],
      "source": [
        "\n",
        "genai.configure(api_key=os.getenv(\"GOOGLE_API_KEY\"))"
      ]
    },
    {
      "cell_type": "code",
      "execution_count": null,
      "metadata": {
        "id": "tCbFRGHfiVeg"
      },
      "outputs": [],
      "source": [
        "class StateFlow:\n",
        "    def __init__(self):\n",
        "        self.investment_type = None\n",
        "\n",
        "    def determine_strategy(self, portfolio_data):\n",
        "        \"\"\"Determine Growth vs Value based on portfolio\"\"\"\n",
        "        total_investment = portfolio_data['fd'] + portfolio_data['sips'] + portfolio_data['real_estate']\n",
        "        salary = portfolio_data['salary']\n",
        "\n",
        "        if total_investment < salary * 2:\n",
        "            self.investment_type = \"GROWTH\"\n",
        "        else:\n",
        "            self.investment_type = \"VALUE\"\n",
        "\n",
        "        return self.investment_type"
      ]
    },
    {
      "cell_type": "code",
      "execution_count": null,
      "metadata": {
        "id": "3fI8X-BBiXnP"
      },
      "outputs": [],
      "source": [
        "llm_config = {\n",
        "    \"config_list\": [\n",
        "        {\n",
        "            \"model\": \"gemini-1.5-flash\",\n",
        "            \"api_key\": os.environ[\"GOOGLE_API_KEY\"],\n",
        "            \"api_type\": \"google\"\n",
        "        }\n",
        "    ]\n",
        "}"
      ]
    },
    {
      "cell_type": "code",
      "execution_count": null,
      "metadata": {
        "id": "5O8A-z0BiaDY"
      },
      "outputs": [],
      "source": [
        "# Portfolio Analysis Agent\n",
        "portfolio_agent = AssistantAgent(\n",
        "    name=\"Portfolio_Analysis_Agent\",\n",
        "    llm_config=llm_config,\n",
        "    system_message=\"\"\"You are the Portfolio Analysis Agent.\n",
        "    Analyze the user's investment portfolio and determine if they should pursue Growth or Value investments.\n",
        "\n",
        "    After receiving portfolio data, provide:\n",
        "    1. Portfolio summary\n",
        "    2. Investment category recommendation (Growth or Value)\n",
        "    3. Brief reasoning for the recommendation\"\"\"\n",
        ")\n",
        "\n",
        "# Growth Investment Agent\n",
        "growth_agent = AssistantAgent(\n",
        "    name=\"Growth_Investment_Agent\",\n",
        "    llm_config=llm_config,\n",
        "    system_message=\"\"\"You are the Growth Investment Agent.\n",
        "    Provide high-growth investment recommendations:\n",
        "    - Equity mutual funds\n",
        "    - Growth stocks\n",
        "    - High-risk high-reward options\n",
        "\n",
        "    Give specific investment suggestions with expected returns.\"\"\"\n",
        ")\n",
        "\n",
        "# Value Investment Agent\n",
        "value_agent = AssistantAgent(\n",
        "    name=\"Value_Investment_Agent\",\n",
        "    llm_config=llm_config,\n",
        "    system_message=\"\"\"You are the Value Investment Agent.\n",
        "    Provide stable, long-term investment recommendations:\n",
        "    - Debt funds\n",
        "    - Fixed deposits\n",
        "    - Dividend stocks\n",
        "    - Conservative options\n",
        "\n",
        "    Give specific investment suggestions focusing on stability.\"\"\"\n",
        ")\n",
        "\n",
        "# Investment Advisor Agent\n",
        "advisor_agent = AssistantAgent(\n",
        "    name=\"Investment_Advisor_Agent\",\n",
        "    llm_config=llm_config,\n",
        "    system_message=\"\"\"You are the Investment Advisor Agent.\n",
        "    Create a personalized financial report based on:\n",
        "    - Portfolio analysis\n",
        "    - Investment recommendations from Growth/Value agents\n",
        "\n",
        "    Provide a comprehensive final report with actionable recommendations.\"\"\"\n",
        ")\n",
        "\n",
        "# User Proxy Agent\n",
        "user_proxy = UserProxyAgent(\n",
        "    name=\"User_Proxy_Agent\",\n",
        "    human_input_mode=\"NEVER\",\n",
        "    system_message=\"You represent the user and initiate the portfolio management process.\"\n",
        ")\n"
      ]
    },
    {
      "cell_type": "code",
      "execution_count": null,
      "metadata": {
        "id": "DSyhcpVNionw"
      },
      "outputs": [],
      "source": [
        "def run_portfolio_manager():\n",
        "    # Step 1: Collect user inputs\n",
        "    print(\"=== Financial Portfolio Manager ===\")\n",
        "    salary = float(input(\"Current salary: \"))\n",
        "    fd = float(input(\"Fixed Deposits amount: \"))\n",
        "    sips = float(input(\"SIPs amount: \"))\n",
        "    real_estate = float(input(\"Real Estate value: \"))\n",
        "\n",
        "    portfolio_data = {\n",
        "        'salary': salary,\n",
        "        'fd': fd,\n",
        "        'sips': sips,\n",
        "        'real_estate': real_estate\n",
        "    }\n",
        "\n",
        "    # Step 2: StateFlow determines strategy\n",
        "    state_flow = StateFlow()\n",
        "    strategy = state_flow.determine_strategy(portfolio_data)\n",
        "    print(f\"\\n✅ StateFlow Decision: {strategy} Investment Strategy\")\n",
        "\n",
        "    # Step 3: Select appropriate agents based on StateFlow\n",
        "    if strategy == \"GROWTH\":\n",
        "        investment_agent = growth_agent\n",
        "    else:\n",
        "        investment_agent = value_agent\n",
        "\n",
        "    # Step 4: Create Group Chat\n",
        "    group_chat = GroupChat(\n",
        "        agents=[user_proxy, portfolio_agent, investment_agent, advisor_agent],\n",
        "        messages=[],\n",
        "        max_round=8\n",
        "    )\n",
        "\n",
        "    group_chat_manager = GroupChatManager(\n",
        "        groupchat=group_chat,\n",
        "        llm_config=llm_config\n",
        "    )\n",
        "\n",
        "    # Step 5: Start the conversation\n",
        "    initial_message = f\"\"\"\n",
        "    Portfolio Management Request:\n",
        "\n",
        "    User Portfolio Data:\n",
        "    - Salary: ₹{salary:,.2f}\n",
        "    - Fixed Deposits: ₹{fd:,.2f}\n",
        "    - SIPs: ₹{sips:,.2f}\n",
        "    - Real Estate: ₹{real_estate:,.2f}\n",
        "\n",
        "    StateFlow has determined: {strategy} Investment Strategy\n",
        "\n",
        "    Portfolio_Analysis_Agent: Please analyze this portfolio and provide insights.\n",
        "    {investment_agent.name}: Please provide {strategy.lower()} investment recommendations.\n",
        "    Investment_Advisor_Agent: Please compile the final personalized financial report.\n",
        "    \"\"\"\n",
        "\n",
        "    # Step 6: Execute Group Chat\n",
        "    print(\"\\n🚀 Starting Group Chat...\")\n",
        "\n",
        "    result = user_proxy.initiate_chat(\n",
        "        recipient=group_chat_manager,\n",
        "        message=initial_message,\n",
        "        max_turns=6\n",
        "    )\n",
        "\n",
        "    print(f\"\\n✅ Portfolio Management Complete!\")\n",
        "    print(f\"📊 Strategy Used: {strategy}\")\n",
        "    print(f\"💼 Total Portfolio: ₹{fd + sips + real_estate:,.2f}\")"
      ]
    },
    {
      "cell_type": "code",
      "execution_count": null,
      "metadata": {
        "id": "hGu4yFEOhIDq"
      },
      "outputs": [],
      "source": [
        "if __name__ == \"__main__\":\n",
        "    run_portfolio_manager()"
      ]
    }
  ],
  "metadata": {
    "colab": {
      "provenance": []
    },
    "kernelspec": {
      "display_name": "Python 3",
      "name": "python3"
    },
    "language_info": {
      "name": "python"
    }
  },
  "nbformat": 4,
  "nbformat_minor": 0
}
