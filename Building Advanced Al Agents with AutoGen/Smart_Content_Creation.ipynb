{
  "cells": [
    {
      "cell_type": "code",
      "execution_count": null,
      "metadata": {
        "id": "3is1bBMdaHcx"
      },
      "outputs": [],
      "source": [
        "!pip install -q pyautogen google-generativeai autogen"
      ]
    },
    {
      "cell_type": "code",
      "execution_count": null,
      "metadata": {
        "id": "D5OtyigzarSW"
      },
      "outputs": [],
      "source": [
        "import os\n",
        "import google.generativeai as genai\n",
        "from autogen import AssistantAgent, UserProxyAgent\n",
        "from dotenv import load_dotenv\n",
        "\n",
        "load_dotenv()"
      ]
    },
    {
      "cell_type": "code",
      "execution_count": null,
      "metadata": {
        "id": "or_LlMrMavFk"
      },
      "outputs": [],
      "source": [
        "genai.configure(api_key=os.getenv(\"GOOGLE_API_KEY\"))"
      ]
    },
    {
      "cell_type": "code",
      "execution_count": 28,
      "metadata": {
        "id": "br0nx7LEaxdU"
      },
      "outputs": [],
      "source": [
        "class GeminiLLM:\n",
        "    def __init__(self, model_name=\"gemini-1.5-flash\"):\n",
        "        self.model = genai.GenerativeModel(model_name=model_name)\n",
        "\n",
        "    def run(self, prompt):\n",
        "        response = self.model.generate_content(prompt)\n",
        "        return response.text\n",
        "\n",
        "llm = GeminiLLM()"
      ]
    },
    {
      "cell_type": "code",
      "execution_count": 29,
      "metadata": {
        "id": "isKls8ffa2c9"
      },
      "outputs": [],
      "source": [
        "import os\n",
        "import google.generativeai as genai\n",
        "from autogen import AssistantAgent, UserProxyAgent\n",
        "\n",
        "creator = AssistantAgent(\n",
        "    name=\"ContentCreatorAgent\",\n",
        "    llm_config={\n",
        "        \"config_list\": [\n",
        "            {\n",
        "                \"model\": \"gemini-1.5-flash\",\n",
        "                \"api_type\": \"google\", # Specify the API type\n",
        "                \"api_key\": os.environ[\"GOOGLE_API_KEY\"] # Provide the API key directly\n",
        "            }\n",
        "        ]\n",
        "    },\n",
        "    system_message=(\n",
        "        \"You are the Content Creator Agent. \"\n",
        "        \"Draft clear, concise, technically accurate content on Agentic AI.\"\n",
        "    )\n",
        ")"
      ]
    },
    {
      "cell_type": "code",
      "execution_count": 30,
      "metadata": {
        "id": "awiEYVXLa5g8"
      },
      "outputs": [],
      "source": [
        "import os\n",
        "import google.generativeai as genai\n",
        "from autogen import AssistantAgent, UserProxyAgent\n",
        "\n",
        "critic = UserProxyAgent(\n",
        "    name=\"ContentCriticAgent\",\n",
        "    code_execution_config=False,\n",
        "    human_input_mode=\"NEVER\",\n",
        "    system_message=(\n",
        "        \"You are the Content Critic Agent. \"\n",
        "        \"Review the draft for clarity, accuracy, and structure. \"\n",
        "        \"Provide constructive feedback and suggestions.\"\n",
        "    ),\n",
        "    llm_config={\n",
        "        \"config_list\": [\n",
        "            {\n",
        "                \"model\": \"gemini-1.5-flash\",\n",
        "                \"api_type\": \"google\", # Use the model name as a string and specify api_type\n",
        "                \"api_key\": os.environ[\"GOOGLE_API_KEY\"] # Provide the API key directly\n",
        "            }\n",
        "        ]\n",
        "    },\n",
        ")"
      ]
    },
    {
      "cell_type": "code",
      "execution_count": 31,
      "metadata": {
        "id": "we2aKRSoa9EV"
      },
      "outputs": [],
      "source": [
        "task = \"\"\"\n",
        "Draft a short informative article about Agentic AI.\n",
        "Explain what it is, how it works, its challenges, and its opportunities.\n",
        "\"\"\""
      ]
    },
    {
      "cell_type": "code",
      "execution_count": null,
      "metadata": {
        "id": "0dFN2jHVa_X9"
      },
      "outputs": [],
      "source": [
        "critic.initiate_chat(\n",
        "    recipient=creator,\n",
        "    message=task\n",
        ")"
      ]
    }
  ],
  "metadata": {
    "colab": {
      "provenance": []
    },
    "kernelspec": {
      "display_name": "Python 3",
      "name": "python3"
    },
    "language_info": {
      "name": "python"
    }
  },
  "nbformat": 4,
  "nbformat_minor": 0
}
