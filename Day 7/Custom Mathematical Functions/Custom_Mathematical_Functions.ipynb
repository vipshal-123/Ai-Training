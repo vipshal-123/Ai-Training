{
  "nbformat": 4,
  "nbformat_minor": 0,
  "metadata": {
    "colab": {
      "provenance": []
    },
    "kernelspec": {
      "name": "python3",
      "display_name": "Python 3"
    },
    "language_info": {
      "name": "python"
    }
  },
  "cells": [
    {
      "cell_type": "code",
      "execution_count": 9,
      "metadata": {
        "id": "6vAfIJheM7vC"
      },
      "outputs": [],
      "source": [
        "!pip install -q langchain-groq langgraph>=0.0.40 langchain-core typing-extensions langchain\n"
      ]
    },
    {
      "cell_type": "code",
      "source": [
        "import os\n",
        "os.environ[\"GROQ_API_KEY\"] = \"Your_Api_Key\""
      ],
      "metadata": {
        "id": "bu4xyzxDN-hk"
      },
      "execution_count": 2,
      "outputs": []
    },
    {
      "cell_type": "code",
      "source": [
        "import re\n",
        "from typing import Dict, Any, List\n",
        "from langchain_core.messages import HumanMessage, AIMessage, SystemMessage\n",
        "from langchain_core.tools import tool\n",
        "from langchain_groq import ChatGroq\n",
        "from langgraph.graph import StateGraph, END\n",
        "from typing_extensions import TypedDict\n",
        "\n",
        "print(\"✅ All libraries imported successfully!\")"
      ],
      "metadata": {
        "colab": {
          "base_uri": "https://localhost:8080/"
        },
        "id": "sDSoq57tOVVV",
        "outputId": "a1528741-561e-4a90-e8c7-f8b78f31799c"
      },
      "execution_count": 38,
      "outputs": [
        {
          "output_type": "stream",
          "name": "stdout",
          "text": [
            "✅ All libraries imported successfully!\n"
          ]
        }
      ]
    },
    {
      "cell_type": "code",
      "source": [
        "class AgentState(TypedDict):\n",
        "    messages: List[Any]\n",
        "    query_type: str\n",
        "    result: str\n",
        "\n",
        "# Custom Mathematical Functions\n",
        "@tool\n",
        "def plus(a: float, b: float) -> float:\n",
        "    \"\"\"Add two numbers together.\"\"\"\n",
        "    return a + b\n",
        "\n",
        "@tool\n",
        "def subtract(a: float, b: float) -> float:\n",
        "    \"\"\"Subtract the second number from the first number.\"\"\"\n",
        "    return a - b\n",
        "\n",
        "@tool\n",
        "def multiply(a: float, b: float) -> float:\n",
        "    \"\"\"Multiply two numbers together.\"\"\"\n",
        "    return a * b\n",
        "\n",
        "@tool\n",
        "def divide(a: float, b: float) -> float:\n",
        "    \"\"\"Divide the first number by the second number.\"\"\"\n",
        "    if b == 0:\n",
        "        raise ValueError(\"Cannot divide by zero!\")\n",
        "    return a / b\n",
        "\n",
        "print(\"✅ Mathematical tools defined successfully!\")\n",
        "print(\"🔧 Available tools: plus, subtract, multiply, divide\")"
      ],
      "metadata": {
        "colab": {
          "base_uri": "https://localhost:8080/"
        },
        "id": "y_tH7HbLP7LZ",
        "outputId": "d7570664-0f82-4101-88ff-069076dbc77f"
      },
      "execution_count": 39,
      "outputs": [
        {
          "output_type": "stream",
          "name": "stdout",
          "text": [
            "✅ Mathematical tools defined successfully!\n",
            "🔧 Available tools: plus, subtract, multiply, divide\n"
          ]
        }
      ]
    },
    {
      "cell_type": "code",
      "source": [
        "class MathematicalAgent:\n",
        "    def __init__(self, api_key: str = None):\n",
        "        \"\"\"Initialize the Mathematical Agent with LLM and tools.\"\"\"\n",
        "        if api_key:\n",
        "            os.environ[\"GROQ_API_KEY\"] = api_key\n",
        "\n",
        "        # Initialize LLM\n",
        "        self.llm = ChatGroq(\n",
        "            model=\"llama3-8b-8192\",\n",
        "            temperature=0.1,\n",
        "            max_tokens=1000\n",
        "        )\n",
        "\n",
        "        # Define mathematical tools\n",
        "        self.math_tools = [plus, subtract, multiply, divide]\n",
        "\n",
        "        # Mathematical operation patterns\n",
        "        self.math_patterns = {\n",
        "            'addition': [\n",
        "                r'(\\d+(?:\\.\\d+)?)\\s*\\+\\s*(\\d+(?:\\.\\d+)?)',\n",
        "                r'add\\s+(\\d+(?:\\.\\d+)?)\\s+(?:and\\s+|to\\s+)?(\\d+(?:\\.\\d+)?)',\n",
        "                r'plus\\s+(\\d+(?:\\.\\d+)?)\\s+(?:and\\s+)?(\\d+(?:\\.\\d+)?)',\n",
        "                r'sum\\s+of\\s+(\\d+(?:\\.\\d+)?)\\s+and\\s+(\\d+(?:\\.\\d+)?)',\n",
        "                r'what\\s+is\\s+(\\d+(?:\\.\\d+)?)\\s+plus\\s+(\\d+(?:\\.\\d+)?)',\n",
        "                r'calculate\\s+(\\d+(?:\\.\\d+)?)\\s*\\+\\s*(\\d+(?:\\.\\d+)?)'\n",
        "            ],\n",
        "            'subtraction': [\n",
        "                r'(\\d+(?:\\.\\d+)?)\\s*-\\s*(\\d+(?:\\.\\d+)?)',\n",
        "                r'subtract\\s+(\\d+(?:\\.\\d+)?)\\s+from\\s+(\\d+(?:\\.\\d+)?)',\n",
        "                r'minus\\s+(\\d+(?:\\.\\d+)?)\\s+(?:from\\s+)?(\\d+(?:\\.\\d+)?)',\n",
        "                r'what\\s+is\\s+(\\d+(?:\\.\\d+)?)\\s+minus\\s+(\\d+(?:\\.\\d+)?)',\n",
        "                r'calculate\\s+(\\d+(?:\\.\\d+)?)\\s*-\\s*(\\d+(?:\\.\\d+)?)'\n",
        "            ],\n",
        "            'multiplication': [\n",
        "                r'(\\d+(?:\\.\\d+)?)\\s*\\*\\s*(\\d+(?:\\.\\d+)?)',\n",
        "                r'multiply\\s+(\\d+(?:\\.\\d+)?)\\s+(?:by\\s+|and\\s+)?(\\d+(?:\\.\\d+)?)',\n",
        "                r'times\\s+(\\d+(?:\\.\\d+)?)\\s+(?:by\\s+)?(\\d+(?:\\.\\d+)?)',\n",
        "                r'what\\s+is\\s+(\\d+(?:\\.\\d+)?)\\s+times\\s+(\\d+(?:\\.\\d+)?)',\n",
        "                r'calculate\\s+(\\d+(?:\\.\\d+)?)\\s*\\*\\s*(\\d+(?:\\.\\d+)?)'\n",
        "            ],\n",
        "            'division': [\n",
        "                r'(\\d+(?:\\.\\d+)?)\\s*/\\s*(\\d+(?:\\.\\d+)?)',\n",
        "                r'divide\\s+(\\d+(?:\\.\\d+)?)\\s+by\\s+(\\d+(?:\\.\\d+)?)',\n",
        "                r'(\\d+(?:\\.\\d+)?)\\s+divided\\s+by\\s+(\\d+(?:\\.\\d+)?)',\n",
        "                r'what\\s+is\\s+(\\d+(?:\\.\\d+)?)\\s+divided\\s+by\\s+(\\d+(?:\\.\\d+)?)',\n",
        "                r'calculate\\s+(\\d+(?:\\.\\d+)?)\\s*/\\s*(\\d+(?:\\.\\d+)?)'\n",
        "            ]\n",
        "        }\n",
        "\n",
        "        # Build the graph\n",
        "        self.graph = self._build_graph()\n",
        "\n",
        "    def _detect_math_query(self, query: str) -> tuple:\n",
        "        \"\"\"Detect if query is mathematical and extract operation and numbers.\"\"\"\n",
        "        query_lower = query.lower().strip()\n",
        "\n",
        "        for operation, patterns in self.math_patterns.items():\n",
        "            for pattern in patterns:\n",
        "                match = re.search(pattern, query_lower)\n",
        "                if match:\n",
        "                    try:\n",
        "                        if operation == 'subtraction' and 'subtract' in pattern:\n",
        "                            # For \"subtract X from Y\", we want Y - X\n",
        "                            num1, num2 = float(match.group(2)), float(match.group(1))\n",
        "                        else:\n",
        "                            num1, num2 = float(match.group(1)), float(match.group(2))\n",
        "                        return operation, num1, num2\n",
        "                    except (ValueError, IndexError):\n",
        "                        continue\n",
        "\n",
        "        return None, None, None\n",
        "\n",
        "    def _chatbot_node(self, state: AgentState) -> AgentState:\n",
        "        \"\"\"Handle general queries using LLM.\"\"\"\n",
        "        messages = state[\"messages\"]\n",
        "\n",
        "        # Create system message for the LLM\n",
        "        system_msg = SystemMessage(content=\"\"\"You are a helpful AI assistant.\n",
        "        You can answer general questions about any topic. If you receive a mathematical\n",
        "        question, just respond normally - the system will handle math operations separately.\n",
        "        Keep your responses clear, helpful, and informative.\"\"\")\n",
        "\n",
        "        # Get LLM response\n",
        "        response = self.llm.invoke([system_msg] + messages)\n",
        "\n",
        "        state[\"messages\"].append(response)\n",
        "        state[\"result\"] = response.content\n",
        "        state[\"query_type\"] = \"general\"\n",
        "\n",
        "        return state\n",
        "\n",
        "    def _math_node(self, state: AgentState) -> AgentState:\n",
        "        \"\"\"Handle mathematical queries using custom functions.\"\"\"\n",
        "        last_message = state[\"messages\"][-1].content\n",
        "        operation, num1, num2 = self._detect_math_query(last_message)\n",
        "\n",
        "        try:\n",
        "            if operation == \"addition\":\n",
        "                result = plus.invoke({\"a\": num1, \"b\": num2})\n",
        "                answer = f\"✅ The sum of {num1} and {num2} is {result}\"\n",
        "            elif operation == \"subtraction\":\n",
        "                result = subtract.invoke({\"a\": num1, \"b\": num2})\n",
        "                answer = f\"✅ {num1} minus {num2} equals {result}\"\n",
        "            elif operation == \"multiplication\":\n",
        "                result = multiply.invoke({\"a\": num1, \"b\": num2})\n",
        "                answer = f\"✅ {num1} times {num2} equals {result}\"\n",
        "            elif operation == \"division\":\n",
        "                result = divide.invoke({\"a\": num1, \"b\": num2})\n",
        "                answer = f\"✅ {num1} divided by {num2} equals {result}\"\n",
        "            else:\n",
        "                answer = \"❌ I couldn't identify the mathematical operation.\"\n",
        "\n",
        "        except Exception as e:\n",
        "            answer = f\"❌ Error performing calculation: {str(e)}\"\n",
        "\n",
        "        # Add AI response to messages\n",
        "        ai_response = AIMessage(content=answer)\n",
        "        state[\"messages\"].append(ai_response)\n",
        "        state[\"result\"] = answer\n",
        "        state[\"query_type\"] = \"mathematical\"\n",
        "\n",
        "        return state\n",
        "\n",
        "    def _determine_route(self, state: AgentState) -> str:\n",
        "        \"\"\"Determine whether to route to math or chatbot node.\"\"\"\n",
        "        last_message = state[\"messages\"][-1].content\n",
        "        operation, _, _ = self._detect_math_query(last_message)\n",
        "\n",
        "        if operation:\n",
        "            return \"math_node\"\n",
        "        else:\n",
        "            return \"chatbot_node\"\n",
        "\n",
        "    def _build_graph(self) -> StateGraph:\n",
        "        \"\"\"Build the LangGraph workflow.\"\"\"\n",
        "        workflow = StateGraph(AgentState)\n",
        "\n",
        "        # Add nodes\n",
        "        workflow.add_node(\"chatbot_node\", self._chatbot_node)\n",
        "        workflow.add_node(\"math_node\", self._math_node)\n",
        "\n",
        "        # Set the entry point with conditional routing\n",
        "        workflow.set_conditional_entry_point(\n",
        "            self._determine_route,\n",
        "            {\n",
        "                \"chatbot_node\": \"chatbot_node\",\n",
        "                \"math_node\": \"math_node\"\n",
        "            }\n",
        "        )\n",
        "\n",
        "        # Add edges from nodes to END\n",
        "        workflow.add_edge(\"chatbot_node\", END)\n",
        "        workflow.add_edge(\"math_node\", END)\n",
        "\n",
        "        return workflow.compile()\n",
        "\n",
        "    def query(self, user_input: str) -> str:\n",
        "        \"\"\"Process user query through the agent.\"\"\"\n",
        "        # Initialize state\n",
        "        initial_state = {\n",
        "            \"messages\": [HumanMessage(content=user_input)],\n",
        "            \"query_type\": \"\",\n",
        "            \"result\": \"\"\n",
        "        }\n",
        "\n",
        "        # Run the graph\n",
        "        result = self.graph.invoke(initial_state)\n",
        "\n",
        "        return result[\"result\"]\n",
        "\n",
        "print(\"✅ MathematicalAgent class defined successfully!\")"
      ],
      "metadata": {
        "colab": {
          "base_uri": "https://localhost:8080/"
        },
        "id": "Q6tguZKcQCYZ",
        "outputId": "423447e6-e480-4ff1-8a25-aad5b5a46df4"
      },
      "execution_count": 40,
      "outputs": [
        {
          "output_type": "stream",
          "name": "stdout",
          "text": [
            "✅ MathematicalAgent class defined successfully!\n"
          ]
        }
      ]
    },
    {
      "cell_type": "code",
      "source": [
        "def run_colab_interactive_session(agent):\n",
        "    \"\"\"Run an interactive session optimized for Google Colab.\"\"\"\n",
        "    print(\"📚 Ask me general mathematical problems!\")\n",
        "    print(\"⏹️  Type 'quit' to exit\\n\")\n",
        "\n",
        "    session_count = 0\n",
        "    max_interactions = 10\n",
        "\n",
        "    while session_count < max_interactions:\n",
        "        try:\n",
        "            user_input = input(f\"[{session_count + 1}/{max_interactions}] You: \").strip()\n",
        "\n",
        "            if user_input.lower() in ['quit', 'exit', 'bye', 'stop']:\n",
        "                print(\"👋 Session ended!\")\n",
        "                break\n",
        "\n",
        "            if not user_input:\n",
        "                print(\"Please enter a question or mathematical problem.\")\n",
        "                continue\n",
        "\n",
        "            print(\"🔄 Processing...\")\n",
        "            response = agent.query(user_input)\n",
        "            print(f\"🤖 Agent: {response}\\n\")\n",
        "\n",
        "            session_count += 1\n",
        "\n",
        "        except KeyboardInterrupt:\n",
        "            print(\"\\n👋 Session interrupted!\")\n",
        "            break\n",
        "        except Exception as e:\n",
        "            print(f\"❌ Error: {str(e)}\\n\")\n",
        "\n",
        "    if session_count >= max_interactions:\n",
        "        print(f\"📝 Session limit reached ({max_interactions} interactions)\")\n",
        "        print(\"💡 Restart the cell to continue chatting!\")\n",
        "\n",
        "print(\"✅ Interactive session function ready!\")"
      ],
      "metadata": {
        "colab": {
          "base_uri": "https://localhost:8080/"
        },
        "id": "FxczsjiEQHpi",
        "outputId": "32c608cf-975a-48b9-f638-5acf031684dc"
      },
      "execution_count": 41,
      "outputs": [
        {
          "output_type": "stream",
          "name": "stdout",
          "text": [
            "✅ Interactive session function ready!\n"
          ]
        }
      ]
    },
    {
      "cell_type": "code",
      "source": [
        "run_colab_interactive_session(agent)"
      ],
      "metadata": {
        "colab": {
          "base_uri": "https://localhost:8080/"
        },
        "id": "fHCPk_cdQL3S",
        "outputId": "3fcb1537-18bc-405e-8543-37d677fb40a4"
      },
      "execution_count": null,
      "outputs": [
        {
          "output_type": "stream",
          "name": "stdout",
          "text": [
            "🤖 Mathematical Agent - Interactive Mode\n",
            "📚 Ask me general questions or mathematical problems!\n",
            "🔢 Math operations supported: +, -, *, /\n",
            "⏹️  Type 'quit' to exit\n",
            "\n",
            "[1/10] You: what is sum of one and 5\n",
            "🔄 Processing...\n",
            "🤖 Agent: The sum of 1 and 5 is 6.\n",
            "\n",
            "[2/10] You: can you say the different between 10 and five \n",
            "🔄 Processing...\n",
            "🤖 Agent: The difference between 10 and 5 is 5.\n",
            "\n",
            "10 - 5 = 5\n",
            "\n"
          ]
        }
      ]
    }
  ]
}